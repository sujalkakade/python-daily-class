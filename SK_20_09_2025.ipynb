{
  "nbformat": 4,
  "nbformat_minor": 0,
  "metadata": {
    "colab": {
      "provenance": [],
      "authorship_tag": "ABX9TyOuUPnj+gAtjb1h0wId61u4",
      "include_colab_link": true
    },
    "kernelspec": {
      "name": "python3",
      "display_name": "Python 3"
    },
    "language_info": {
      "name": "python"
    }
  },
  "cells": [
    {
      "cell_type": "markdown",
      "metadata": {
        "id": "view-in-github",
        "colab_type": "text"
      },
      "source": [
        "<a href=\"https://colab.research.google.com/github/sujalkakade/python-daily-class/blob/main/SK_20_09_2025.ipynb\" target=\"_parent\"><img src=\"https://colab.research.google.com/assets/colab-badge.svg\" alt=\"Open In Colab\"/></a>"
      ]
    },
    {
      "cell_type": "code",
      "execution_count": 3,
      "metadata": {
        "colab": {
          "base_uri": "https://localhost:8080/"
        },
        "id": "TSE_PuLHlMOH",
        "outputId": "5ffcf96b-3480-4daa-d321-8be5a48827a9"
      },
      "outputs": [
        {
          "output_type": "stream",
          "name": "stdout",
          "text": [
            "5\n",
            "25\n",
            "-2\n",
            "91\n"
          ]
        }
      ],
      "source": [
        "# Compile time / Method Overloading Polymorphism\n",
        "class BCA_1st_Semester :\n",
        "    def student(self,a,b=0,c=0,d=0):\n",
        "        return a+b+c+d\n",
        "\n",
        "BCA = BCA_1st_Semester()\n",
        "print(BCA.student(5))\n",
        "print(BCA.student(10,7,8))\n",
        "print(BCA.student(-10,4,9,-5))\n",
        "print(BCA.student(99,0,4,-12))"
      ]
    },
    {
      "cell_type": "code",
      "source": [
        "class Animal :\n",
        "    def sound(self):\n",
        "        print(\"Animal makes a sound\")\n",
        "\n",
        "class Dog(Animal):\n",
        "    def sound(self):\n",
        "        print(\"Bow Bow Bow Bow\")\n",
        "\n",
        "class Cat(Animal):\n",
        "    def sound(self):\n",
        "        print(\"Meow Meow Meow\")\n",
        "\n",
        "class Tiger(Animal):\n",
        "    def sound(self):\n",
        "        print(\"Roar Roar Roar\")\n",
        "\n",
        "class Cow(Animal):\n",
        "    def sound(self):\n",
        "        print(\"Ambbbbbaaaaaa\")\n",
        "\n",
        "\n",
        "dog = Dog()\n",
        "cat = Cat()\n",
        "tiger = Tiger()\n",
        "cow = Cow()\n",
        "\n",
        "dog.sound()\n",
        "cat.sound()\n",
        "tiger.sound()\n",
        "cow.sound()"
      ],
      "metadata": {
        "colab": {
          "base_uri": "https://localhost:8080/"
        },
        "id": "plELX3gQluM5",
        "outputId": "5e9c86a7-3ea5-47cb-d706-c4d16349173a"
      },
      "execution_count": 2,
      "outputs": [
        {
          "output_type": "stream",
          "name": "stdout",
          "text": [
            "Bow Bow Bow Bow\n",
            "Meow Meow Meow\n",
            "Roar Roar Roar\n",
            "Ambbbbbaaaaaa\n"
          ]
        }
      ]
    },
    {
      "cell_type": "code",
      "source": [
        "class Book :\n",
        "  def __init__(self,page):\n",
        "    self.page = page\n",
        "  def __add__(self,other):\n",
        "    return self.page + other.page\n",
        "Obj1 = Book(200)\n",
        "obj2 = Book(300)\n",
        "print(\"TOtal page is\",Obj1 + obj2)\n"
      ],
      "metadata": {
        "colab": {
          "base_uri": "https://localhost:8080/"
        },
        "id": "-emRoSBDl0hz",
        "outputId": "d46fd844-e4cf-489d-d5e9-4304908f8450"
      },
      "execution_count": 1,
      "outputs": [
        {
          "output_type": "stream",
          "name": "stdout",
          "text": [
            "TOtal page is 500\n"
          ]
        }
      ]
    }
  ]
}