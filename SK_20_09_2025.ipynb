{
  "nbformat": 4,
  "nbformat_minor": 0,
  "metadata": {
    "colab": {
      "provenance": [],
      "authorship_tag": "ABX9TyObiVXp+GYUGzbZe2HeGT8z",
      "include_colab_link": true
    },
    "kernelspec": {
      "name": "python3",
      "display_name": "Python 3"
    },
    "language_info": {
      "name": "python"
    }
  },
  "cells": [
    {
      "cell_type": "markdown",
      "metadata": {
        "id": "view-in-github",
        "colab_type": "text"
      },
      "source": [
        "<a href=\"https://colab.research.google.com/github/sujalkakade/python-daily-class/blob/main/SK_20_09_2025.ipynb\" target=\"_parent\"><img src=\"https://colab.research.google.com/assets/colab-badge.svg\" alt=\"Open In Colab\"/></a>"
      ]
    },
    {
      "cell_type": "code",
      "execution_count": 3,
      "metadata": {
        "colab": {
          "base_uri": "https://localhost:8080/"
        },
        "id": "TSE_PuLHlMOH",
        "outputId": "5ffcf96b-3480-4daa-d321-8be5a48827a9"
      },
      "outputs": [
        {
          "output_type": "stream",
          "name": "stdout",
          "text": [
            "5\n",
            "25\n",
            "-2\n",
            "91\n"
          ]
        }
      ],
      "source": [
        "# Compile time / Method Overloading Polymorphism\n",
        "class BCA_1st_Semester :\n",
        "    def student(self,a,b=0,c=0,d=0):\n",
        "        return a+b+c+d\n",
        "\n",
        "BCA = BCA_1st_Semester()\n",
        "print(BCA.student(5))\n",
        "print(BCA.student(10,7,8))\n",
        "print(BCA.student(-10,4,9,-5))\n",
        "print(BCA.student(99,0,4,-12))"
      ]
    },
    {
      "cell_type": "code",
      "source": [
        "class Animal :\n",
        "    def sound(self):\n",
        "        print(\"Animal makes a sound\")\n",
        "\n",
        "class Dog(Animal):\n",
        "    def sound(self):\n",
        "        print(\"Bow Bow Bow Bow\")\n",
        "\n",
        "class Cat(Animal):\n",
        "    def sound(self):\n",
        "        print(\"Meow Meow Meow\")\n",
        "\n",
        "class Tiger(Animal):\n",
        "    def sound(self):\n",
        "        print(\"Roar Roar Roar\")\n",
        "\n",
        "class Cow(Animal):\n",
        "    def sound(self):\n",
        "        print(\"Ambbbbbaaaaaa\")\n",
        "\n",
        "\n",
        "dog = Dog()\n",
        "cat = Cat()\n",
        "tiger = Tiger()\n",
        "cow = Cow()\n",
        "\n",
        "dog.sound()\n",
        "cat.sound()\n",
        "tiger.sound()\n",
        "cow.sound()"
      ],
      "metadata": {
        "colab": {
          "base_uri": "https://localhost:8080/"
        },
        "id": "plELX3gQluM5",
        "outputId": "5e9c86a7-3ea5-47cb-d706-c4d16349173a"
      },
      "execution_count": 2,
      "outputs": [
        {
          "output_type": "stream",
          "name": "stdout",
          "text": [
            "Bow Bow Bow Bow\n",
            "Meow Meow Meow\n",
            "Roar Roar Roar\n",
            "Ambbbbbaaaaaa\n"
          ]
        }
      ]
    },
    {
      "cell_type": "code",
      "source": [
        "class Book :\n",
        "  def __init__(self,page):\n",
        "    self.page = page\n",
        "  def __add__(self,other):\n",
        "    return self.page + other.page\n",
        "Obj1 = Book(200)\n",
        "obj2 = Book(300)\n",
        "print(\"TOtal page is\",Obj1 + obj2)\n"
      ],
      "metadata": {
        "colab": {
          "base_uri": "https://localhost:8080/"
        },
        "id": "-emRoSBDl0hz",
        "outputId": "d46fd844-e4cf-489d-d5e9-4304908f8450"
      },
      "execution_count": 1,
      "outputs": [
        {
          "output_type": "stream",
          "name": "stdout",
          "text": [
            "TOtal page is 500\n"
          ]
        }
      ]
    },
    {
      "cell_type": "code",
      "source": [
        "#Abstraction example\n",
        "from abc import ABC,abstractmethod\n",
        "class Vehicle(ABC):\n",
        "    def sound(self):\n",
        "         pass\n",
        "class Car (Vehicle):\n",
        "  def sound(self)\n",
        "      print(\"I'm driving a car\")\n",
        "\n",
        " obj = Car()\n",
        " obj.Sound()"
      ],
      "metadata": {
        "colab": {
          "base_uri": "https://localhost:8080/"
        },
        "id": "xIqjgzaqoJXx",
        "outputId": "d2d3aa6f-e3fb-4b04-966b-70ddb1cd5a79"
      },
      "execution_count": 14,
      "outputs": [
        {
          "output_type": "stream",
          "name": "stdout",
          "text": [
            "I'm driving a car\n"
          ]
        }
      ]
    },
    {
      "cell_type": "code",
      "source": [
        "#Abstraction example\n",
        "from abc import ABC,abstractmethod\n",
        "class Vehicle(ABC):\n",
        "    @abstractmethod\n",
        "    def sound(self):\n",
        "         pass\n",
        "class Car (Vehicle):\n",
        "  def sound(self):\n",
        "      print(\"I'm driving a car\")\n",
        "\n",
        "obj = Car()\n",
        "obj.sound()"
      ],
      "metadata": {
        "colab": {
          "base_uri": "https://localhost:8080/"
        },
        "id": "0tb-Wav2pr6Z",
        "outputId": "9aa5560e-9dd2-489f-a5da-bf85294c8c22"
      },
      "execution_count": 15,
      "outputs": [
        {
          "output_type": "stream",
          "name": "stdout",
          "text": [
            "I'm driving a car\n"
          ]
        }
      ]
    },
    {
      "cell_type": "code",
      "source": [
        "from abc import ABC,abstractmethod\n",
        "class Game(ABC):\n",
        "\n",
        "  #Normal function / method\n",
        "    def Y_City (self):\n",
        "      print(\"Mission completed\")\n",
        "\n",
        "\n",
        "  #Abstract Method / function\n",
        "    @abstractmethod\n",
        "    def BGMI (self):\n",
        "       pass\n",
        "\n",
        "\n",
        "  #Normal function  / Method\n",
        "    def Ludo_King (self):\n",
        "        print(\"I'm win the game\")\n",
        "\n",
        "class Temple_Run (Game):\n",
        "\n",
        "   #BGMI function implemented by sub class\n",
        "     def BGMI(self):\n",
        "         print(\"I got a royal pass\")\n",
        "\n",
        "    #Normal function\n",
        "     def Chess(self):\n",
        "          print(\"I'm a district player\")\n",
        "\n",
        "\n",
        "Obj = Temple_Run()\n",
        "Obj.BGMI()\n",
        "Obj.Ludo_King()\n",
        "Obj.Chess()"
      ],
      "metadata": {
        "colab": {
          "base_uri": "https://localhost:8080/"
        },
        "id": "pTUZ3XrGp58p",
        "outputId": "989eff4b-4eee-485e-88f9-41d66dfdcb3f"
      },
      "execution_count": 52,
      "outputs": [
        {
          "output_type": "stream",
          "name": "stdout",
          "text": [
            "I got a royal pass\n",
            "I'm win the game\n",
            "I'm a district player\n"
          ]
        }
      ]
    }
  ]
}