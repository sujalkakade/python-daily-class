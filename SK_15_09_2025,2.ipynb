{
  "nbformat": 4,
  "nbformat_minor": 0,
  "metadata": {
    "colab": {
      "provenance": [],
      "authorship_tag": "ABX9TyMmKI2l3d3RA/Q0UR8tP0GY",
      "include_colab_link": true
    },
    "kernelspec": {
      "name": "python3",
      "display_name": "Python 3"
    },
    "language_info": {
      "name": "python"
    }
  },
  "cells": [
    {
      "cell_type": "markdown",
      "metadata": {
        "id": "view-in-github",
        "colab_type": "text"
      },
      "source": [
        "<a href=\"https://colab.research.google.com/github/sujalkakade/python-daily-class/blob/main/SK_15_09_2025%2C2.ipynb\" target=\"_parent\"><img src=\"https://colab.research.google.com/assets/colab-badge.svg\" alt=\"Open In Colab\"/></a>"
      ]
    },
    {
      "cell_type": "code",
      "source": [
        "Dict = {\"Roll Number\":     162,\n",
        "       \"Name\"        :     \"sujal\",\n",
        "       \"Address\"     :     \"chikodi\",\n",
        "       \"CGPA\"        :     7.53,\n",
        "        \"Cource\"     :     \"MCA\",\n",
        "        \"Year\"       :     2025,\n",
        "        \"Age\"        :     19,\n",
        "\n",
        "\n",
        "}\n",
        "print(Dict)\n",
        "print(len(Dict))\n",
        "Dict[\"Gender\"]=\"Male\"\n",
        "print(Dict)\n",
        "Dict[\"Mobile Number\"]=\"9740007060\"\n",
        "print(Dict)\n",
        "Dict[\"College\"]=\"BK BCA college chikodi\"\n",
        "print(Dict)\n",
        "Dict[\"Univercity\"]=\"Rani chenanam univercity\"\n",
        "print(Dict)\n",
        "del Dict[\"Gender\"]\n",
        "print(Dict)\n",
        "print(Dict[\"College\"])\n",
        "print(Dict)\n",
        "print(Dict[\"Age\"])\n",
        "print(Dict)\n",
        "del Dict[\"Address\"]\n",
        "print(Dict)"
      ],
      "metadata": {
        "colab": {
          "base_uri": "https://localhost:8080/"
        },
        "id": "3RDdvTdzJguC",
        "outputId": "adddaf32-8110-4da8-d2b1-c1b819acb210"
      },
      "execution_count": null,
      "outputs": [
        {
          "output_type": "stream",
          "name": "stdout",
          "text": [
            "{'Roll Number': 162, 'Name': 'sujal', 'Address': 'chikodi', 'CGPA': 7.53, 'Cource': 'MCA', 'Year': 2025, 'Age': 19}\n",
            "7\n",
            "{'Roll Number': 162, 'Name': 'sujal', 'Address': 'chikodi', 'CGPA': 7.53, 'Cource': 'MCA', 'Year': 2025, 'Age': 19, 'Gender': 'Male'}\n",
            "{'Roll Number': 162, 'Name': 'sujal', 'Address': 'chikodi', 'CGPA': 7.53, 'Cource': 'MCA', 'Year': 2025, 'Age': 19, 'Gender': 'Male', 'Mobile Number': '9740007060'}\n",
            "{'Roll Number': 162, 'Name': 'sujal', 'Address': 'chikodi', 'CGPA': 7.53, 'Cource': 'MCA', 'Year': 2025, 'Age': 19, 'Gender': 'Male', 'Mobile Number': '9740007060', 'College': 'BK BCA college chikodi'}\n",
            "{'Roll Number': 162, 'Name': 'sujal', 'Address': 'chikodi', 'CGPA': 7.53, 'Cource': 'MCA', 'Year': 2025, 'Age': 19, 'Gender': 'Male', 'Mobile Number': '9740007060', 'College': 'BK BCA college chikodi', 'Univercity': 'Rani chenanam univercity'}\n",
            "{'Roll Number': 162, 'Name': 'sujal', 'Address': 'chikodi', 'CGPA': 7.53, 'Cource': 'MCA', 'Year': 2025, 'Age': 19, 'Mobile Number': '9740007060', 'College': 'BK BCA college chikodi', 'Univercity': 'Rani chenanam univercity'}\n",
            "BK BCA college chikodi\n",
            "{'Roll Number': 162, 'Name': 'sujal', 'Address': 'chikodi', 'CGPA': 7.53, 'Cource': 'MCA', 'Year': 2025, 'Age': 19, 'Mobile Number': '9740007060', 'College': 'BK BCA college chikodi', 'Univercity': 'Rani chenanam univercity'}\n",
            "19\n",
            "{'Roll Number': 162, 'Name': 'sujal', 'Address': 'chikodi', 'CGPA': 7.53, 'Cource': 'MCA', 'Year': 2025, 'Age': 19, 'Mobile Number': '9740007060', 'College': 'BK BCA college chikodi', 'Univercity': 'Rani chenanam univercity'}\n",
            "{'Roll Number': 162, 'Name': 'sujal', 'CGPA': 7.53, 'Cource': 'MCA', 'Year': 2025, 'Age': 19, 'Mobile Number': '9740007060', 'College': 'BK BCA college chikodi', 'Univercity': 'Rani chenanam univercity'}\n"
          ]
        }
      ]
    },
    {
      "cell_type": "code",
      "source": [
        "Name={\"Name\":\"sujal\",\n",
        "      \"name\": \"sujal\",\n",
        "      \"F_name\":\"sujal\",\n",
        "      \"L-name\":\"kakade\",\n",
        "      }\n",
        "print(Name)"
      ],
      "metadata": {
        "colab": {
          "base_uri": "https://localhost:8080/"
        },
        "id": "zNRUQTkdKtIR",
        "outputId": "2cc66471-a193-4ef7-e557-270b9906a39b"
      },
      "execution_count": null,
      "outputs": [
        {
          "output_type": "stream",
          "name": "stdout",
          "text": [
            "{'Name': 'sujal', 'name': 'sujal', 'F_name': 'sujal', 'L-name': 'kakade'}\n"
          ]
        }
      ]
    },
    {
      "cell_type": "code",
      "source": [
        "a=10\n",
        "b=3\n",
        "c=a+b\n",
        "print(type(a))\n",
        "print(type(b))\n",
        "print(type(c))\n",
        "print(type(a/b))\n",
        "x=2.5\n",
        "y=3.5\n",
        "print(type(x+y))\n"
      ],
      "metadata": {
        "colab": {
          "base_uri": "https://localhost:8080/"
        },
        "id": "V5m2F0pXeYLo",
        "outputId": "e0e5ae42-8656-481c-dcd0-cf890ad723e5"
      },
      "execution_count": null,
      "outputs": [
        {
          "output_type": "stream",
          "name": "stdout",
          "text": [
            "<class 'int'>\n",
            "<class 'int'>\n",
            "<class 'int'>\n",
            "<class 'float'>\n",
            "<class 'float'>\n"
          ]
        }
      ]
    },
    {
      "cell_type": "code",
      "source": [
        "#int->float\n",
        "i=20\n",
        "j=5.5\n",
        "k=i+j\n",
        "print(type(k))"
      ],
      "metadata": {
        "colab": {
          "base_uri": "https://localhost:8080/"
        },
        "id": "XVuxDtwkhAbQ",
        "outputId": "0e2c707a-bbbb-4763-aab6-df24e2e55f5f"
      },
      "execution_count": null,
      "outputs": [
        {
          "output_type": "stream",
          "name": "stdout",
          "text": [
            "<class 'float'>\n"
          ]
        }
      ]
    },
    {
      "cell_type": "code",
      "source": [
        "#int->float\n",
        "i= True\n",
        "print(type(i))\n",
        "j=5\n",
        "print(type(i+j))\n"
      ],
      "metadata": {
        "colab": {
          "base_uri": "https://localhost:8080/"
        },
        "id": "cS_0K3QShT5w",
        "outputId": "b707ba5c-fb7e-4260-83d7-7c6f7df78cb9"
      },
      "execution_count": null,
      "outputs": [
        {
          "output_type": "stream",
          "name": "stdout",
          "text": [
            "<class 'bool'>\n",
            "<class 'int'>\n"
          ]
        }
      ]
    },
    {
      "cell_type": "code",
      "source": [
        "M = 2.9\n",
        "N = False\n",
        "O = M-N\n",
        "print(type(O))"
      ],
      "metadata": {
        "colab": {
          "base_uri": "https://localhost:8080/"
        },
        "id": "pE0Ntjxsij4R",
        "outputId": "44497137-ddb6-4175-a9ee-a207a0021c99"
      },
      "execution_count": null,
      "outputs": [
        {
          "output_type": "stream",
          "name": "stdout",
          "text": [
            "<class 'float'>\n"
          ]
        }
      ]
    },
    {
      "cell_type": "code",
      "source": [
        "P=True\n",
        "Q=False\n",
        "R=P+Q\n",
        "print(type(R))"
      ],
      "metadata": {
        "colab": {
          "base_uri": "https://localhost:8080/"
        },
        "id": "3CWFWKB8i8XY",
        "outputId": "5b4648de-364b-4623-b6cd-858d48a30541"
      },
      "execution_count": null,
      "outputs": [
        {
          "output_type": "stream",
          "name": "stdout",
          "text": [
            "<class 'int'>\n"
          ]
        }
      ]
    },
    {
      "cell_type": "code",
      "source": [
        "S=2.6\n",
        "T=False\n",
        "print(type(S*T))"
      ],
      "metadata": {
        "colab": {
          "base_uri": "https://localhost:8080/"
        },
        "id": "Hv0GuIW5jOa4",
        "outputId": "aea7e3b5-2aef-4a78-836c-064084453f02"
      },
      "execution_count": null,
      "outputs": [
        {
          "output_type": "stream",
          "name": "stdout",
          "text": [
            "<class 'float'>\n"
          ]
        }
      ]
    },
    {
      "cell_type": "code",
      "source": [
        "num=3.12\n",
        "print(type(num))#float\n",
        "add=int(num)\n",
        "print(type(add))#int\n",
        "#Explict\n",
        "add=int(num)\n",
        "\n",
        "mul=float(add)\n",
        "print(type(mul))"
      ],
      "metadata": {
        "colab": {
          "base_uri": "https://localhost:8080/"
        },
        "id": "byKBfoCrk9CA",
        "outputId": "c53cb032-7120-4d8a-f0b3-0e5689a5a4cc"
      },
      "execution_count": null,
      "outputs": [
        {
          "output_type": "stream",
          "name": "stdout",
          "text": [
            "<class 'float'>\n",
            "<class 'int'>\n",
            "<class 'float'>\n"
          ]
        }
      ]
    },
    {
      "cell_type": "code",
      "source": [
        "Num=\"101\"\n",
        "print(type(Num))\n",
        "add=int(Num)\n",
        "print(type(add))\n",
        "\n",
        "men=True\n",
        "print(type(men))\n",
        "add=int(men)\n",
        "print(type(add))"
      ],
      "metadata": {
        "colab": {
          "base_uri": "https://localhost:8080/"
        },
        "id": "muT3Q5VAm0Yn",
        "outputId": "7ced723c-868e-4af1-aa5d-2d6043060a9c"
      },
      "execution_count": null,
      "outputs": [
        {
          "output_type": "stream",
          "name": "stdout",
          "text": [
            "<class 'str'>\n",
            "<class 'int'>\n",
            "<class 'bool'>\n",
            "<class 'int'>\n"
          ]
        }
      ]
    },
    {
      "cell_type": "code",
      "source": [
        "print(type(str(100)))"
      ],
      "metadata": {
        "colab": {
          "base_uri": "https://localhost:8080/"
        },
        "id": "24GOdxWho8JH",
        "outputId": "c1ea1f9a-4cff-405a-bae0-db82d1b185c3"
      },
      "execution_count": null,
      "outputs": [
        {
          "output_type": "stream",
          "name": "stdout",
          "text": [
            "<class 'str'>\n"
          ]
        }
      ]
    },
    {
      "cell_type": "code",
      "source": [
        "Demo=1\n",
        "print(type(Demo))\n",
        "\n",
        "print(type(bool(Demo)))"
      ],
      "metadata": {
        "colab": {
          "base_uri": "https://localhost:8080/"
        },
        "id": "hItwRjAMpaQP",
        "outputId": "95b6505e-56a3-4b0d-8ec3-ece4a14e5fe0"
      },
      "execution_count": null,
      "outputs": [
        {
          "output_type": "stream",
          "name": "stdout",
          "text": [
            "<class 'int'>\n",
            "<class 'bool'>\n"
          ]
        }
      ]
    },
    {
      "cell_type": "code",
      "source": [
        "Demo=9.99\n",
        "print(type(Demo))\n",
        "\n",
        "print(type(bool(Demo)))"
      ],
      "metadata": {
        "colab": {
          "base_uri": "https://localhost:8080/"
        },
        "id": "nazKJhjHq3pw",
        "outputId": "682473b5-9d58-4031-c21f-625d7d072fc5"
      },
      "execution_count": null,
      "outputs": [
        {
          "output_type": "stream",
          "name": "stdout",
          "text": [
            "<class 'float'>\n",
            "<class 'bool'>\n"
          ]
        }
      ]
    },
    {
      "cell_type": "code",
      "source": [
        "Demo=False\n",
        "print(type(Demo))\n",
        "\n",
        "print(type(float(Demo)))"
      ],
      "metadata": {
        "colab": {
          "base_uri": "https://localhost:8080/"
        },
        "id": "4BemzxhFrM7f",
        "outputId": "7b9adb57-8f26-4436-bb11-0591512c9cfc"
      },
      "execution_count": null,
      "outputs": [
        {
          "output_type": "stream",
          "name": "stdout",
          "text": [
            "<class 'bool'>\n",
            "<class 'float'>\n"
          ]
        }
      ]
    },
    {
      "cell_type": "code",
      "source": [
        "Demo=False\n",
        "print(type(Demo))\n",
        "\n",
        "print(type(str(Demo)))"
      ],
      "metadata": {
        "colab": {
          "base_uri": "https://localhost:8080/"
        },
        "id": "RM5L56tHrWi_",
        "outputId": "abef9d4f-51a7-4f31-aec0-d8d79566eb9e"
      },
      "execution_count": null,
      "outputs": [
        {
          "output_type": "stream",
          "name": "stdout",
          "text": [
            "<class 'bool'>\n",
            "<class 'str'>\n"
          ]
        }
      ]
    },
    {
      "cell_type": "code",
      "source": [
        "Demo=9.99\n",
        "print=type(Demo)\n",
        "Ex=\n",
        "print(type(Demo))"
      ],
      "metadata": {
        "colab": {
          "base_uri": "https://localhost:8080/"
        },
        "id": "NHhYgYRXtWK_",
        "outputId": "00dc889a-c8a6-43b4-b1dd-ce1c19a20f96"
      },
      "execution_count": null,
      "outputs": [
        {
          "output_type": "stream",
          "name": "stdout",
          "text": [
            "<class 'float'>\n",
            "<class 'float'>\n"
          ]
        }
      ]
    },
    {
      "cell_type": "code",
      "source": [
        "Num1=\"sujal\"\n",
        "print(type(Num1))\n",
        "\n",
        "Ex1=list(Num1)\n",
        "print(type(Ex1))\n",
        "\n",
        "Num2=(1,2,3,4,5)\n",
        "print(type(Num2))\n",
        "\n",
        "Ex2=list(Num2)\n",
        "print(type(Ex2))\n",
        "\n",
        "Num3={1,23,4,5}\n",
        "print(type(Num3))\n",
        "\n",
        "Ex3=list(Num3)\n",
        "print(type(Ex3))\n",
        "\n",
        "\n",
        "Num4={}\n",
        "print(type(Num4))\n",
        "Ex4=list(Num4)\n",
        "print(type(Ex4))\n",
        "\n",
        "\n"
      ],
      "metadata": {
        "colab": {
          "base_uri": "https://localhost:8080/"
        },
        "id": "p_4ov1zXvJP_",
        "outputId": "1421862a-bb51-4e59-d797-c8ed04204674"
      },
      "execution_count": null,
      "outputs": [
        {
          "output_type": "stream",
          "name": "stdout",
          "text": [
            "<class 'str'>\n",
            "<class 'list'>\n",
            "<class 'tuple'>\n",
            "<class 'list'>\n",
            "<class 'set'>\n",
            "<class 'list'>\n",
            "<class 'dict'>\n",
            "<class 'list'>\n"
          ]
        }
      ]
    },
    {
      "cell_type": "code",
      "source": [
        "print(\"a=10,b=20\")"
      ],
      "metadata": {
        "colab": {
          "base_uri": "https://localhost:8080/"
        },
        "id": "QXDZl0TUzz3v",
        "outputId": "120fdb8f-4f2e-4cd4-a8b9-57e06c5e9a67"
      },
      "execution_count": null,
      "outputs": [
        {
          "output_type": "stream",
          "name": "stdout",
          "text": [
            "a=10,b=20\n"
          ]
        }
      ]
    },
    {
      "cell_type": "code",
      "source": [
        "Num2={(\"a\",1),(\"b\",2),(\"C\",3)}\n",
        "print(type(Num2))\n",
        "\n",
        "Ex2=dict(Num2)\n",
        "print(type(Ex2))"
      ],
      "metadata": {
        "colab": {
          "base_uri": "https://localhost:8080/"
        },
        "id": "TfgZ3cOF1gLn",
        "outputId": "6b00e9cd-dd71-4d9f-ad32-82b6c2a11562"
      },
      "execution_count": null,
      "outputs": [
        {
          "output_type": "stream",
          "name": "stdout",
          "text": [
            "<class 'set'>\n",
            "<class 'dict'>\n"
          ]
        }
      ]
    },
    {
      "cell_type": "code",
      "source": [
        "Num3=((\"Name\",\"sujal\"),(\"age\" ,19))\n",
        "print(type(Num3))\n",
        "\n",
        "Ex3=dict(Num3)\n",
        "print(type(Ex3))"
      ],
      "metadata": {
        "colab": {
          "base_uri": "https://localhost:8080/"
        },
        "id": "5MWb43Tx2PM_",
        "outputId": "43bcefb3-9e21-4b8a-94f0-9480781670cf"
      },
      "execution_count": null,
      "outputs": [
        {
          "output_type": "stream",
          "name": "stdout",
          "text": [
            "<class 'tuple'>\n",
            "<class 'dict'>\n"
          ]
        }
      ]
    },
    {
      "cell_type": "code",
      "source": [
        "Num4={(\"Roll Number\",501),(\"Section\",\"C\")}\n",
        "print(type(Num4))\n",
        "\n",
        "Ex4=dict(Num4)\n",
        "print(type(Ex4))"
      ],
      "metadata": {
        "colab": {
          "base_uri": "https://localhost:8080/"
        },
        "id": "nAur4lZa2ufm",
        "outputId": "d1cf8317-d0df-4174-8cee-4924babdd4b4"
      },
      "execution_count": null,
      "outputs": [
        {
          "output_type": "stream",
          "name": "stdout",
          "text": [
            "<class 'set'>\n",
            "<class 'dict'>\n"
          ]
        }
      ]
    },
    {
      "cell_type": "code",
      "source": [
        "#I/P a=10,b=20\n",
        "#O/P a=20,b=10\n",
        "\n",
        "A=10\n",
        "B=20\n",
        "print(\"Before Swapping\")\n",
        "print(\"A=\",A,\"B=\",B)\n",
        "\n",
        "print(\"After Swapping\")\n",
        "temp=A\n",
        "A=B\n",
        "B=temp\n",
        "print(\"A=\",A,\"B=\",B)\n",
        "\n",
        "\n",
        "\n"
      ],
      "metadata": {
        "colab": {
          "base_uri": "https://localhost:8080/"
        },
        "id": "FlXUyOIV-xUm",
        "outputId": "703637b1-7f2d-4227-e2f2-0ccf81636973"
      },
      "execution_count": null,
      "outputs": [
        {
          "output_type": "stream",
          "name": "stdout",
          "text": [
            "Before Swapping\n",
            "A= 10 B= 20\n",
            "After Swapping\n",
            "A= 20 B= 10\n"
          ]
        }
      ]
    },
    {
      "cell_type": "code",
      "source": [],
      "metadata": {
        "id": "TnPxNE-SBkU1"
      },
      "execution_count": null,
      "outputs": []
    }
  ]
}