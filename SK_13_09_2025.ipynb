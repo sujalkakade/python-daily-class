{
  "nbformat": 4,
  "nbformat_minor": 0,
  "metadata": {
    "colab": {
      "provenance": [],
      "include_colab_link": true
    },
    "kernelspec": {
      "name": "python3",
      "display_name": "Python 3"
    },
    "language_info": {
      "name": "python"
    }
  },
  "cells": [
    {
      "cell_type": "markdown",
      "metadata": {
        "id": "view-in-github",
        "colab_type": "text"
      },
      "source": [
        "<a href=\"https://colab.research.google.com/github/sujalkakade/python-daily-class/blob/main/SK_13_09_2025.ipynb\" target=\"_parent\"><img src=\"https://colab.research.google.com/assets/colab-badge.svg\" alt=\"Open In Colab\"/></a>"
      ]
    },
    {
      "cell_type": "code",
      "execution_count": null,
      "metadata": {
        "colab": {
          "base_uri": "https://localhost:8080/"
        },
        "id": "tVd9SH8iKiKb",
        "outputId": "31b4dd28-77b8-46b3-d302-f9d2b9cefdb3"
      },
      "outputs": [
        {
          "output_type": "stream",
          "name": "stdout",
          "text": [
            "Good Morning 18\n"
          ]
        }
      ],
      "source": [
        " a, b, c = \"Good\", \"Morning\", 18\n",
        "print(a, b, c)"
      ]
    },
    {
      "cell_type": "code",
      "source": [
        "Name, College, Degree, Roll= \"Sharath\", \"BK\", \"BCA\", 101\n",
        "print(\"Hi, Good Morning, I'm\",Name,\"i'm studying\",Degree,\"in\",College,\"College at Chikodi\",\"my roll no is\",Roll)"
      ],
      "metadata": {
        "colab": {
          "base_uri": "https://localhost:8080/"
        },
        "id": "yvk13ndoMFUG",
        "outputId": "750b7d90-4c4a-420a-dbd8-dad01c7e794f"
      },
      "execution_count": null,
      "outputs": [
        {
          "output_type": "stream",
          "name": "stdout",
          "text": [
            "Hi, Good Morning, I'm Sharath i'm studying BCA in BK College at Chikodi my roll no is 101\n"
          ]
        }
      ]
    },
    {
      "cell_type": "code",
      "source": [
        "x = y = z = 1001\n",
        "print(x,y,z)"
      ],
      "metadata": {
        "colab": {
          "base_uri": "https://localhost:8080/"
        },
        "id": "D3WxmCYGQExe",
        "outputId": "ab24cdea-5fd2-435b-9841-d2603ab4edc8"
      },
      "execution_count": null,
      "outputs": [
        {
          "output_type": "stream",
          "name": "stdout",
          "text": [
            "1001 1001 1001\n"
          ]
        }
      ]
    },
    {
      "cell_type": "code",
      "source": [
        "A = B, C = \"College\", 25\n",
        "print(B, C, A)"
      ],
      "metadata": {
        "colab": {
          "base_uri": "https://localhost:8080/"
        },
        "id": "j0FvZFjtQqn8",
        "outputId": "5a2110ea-7670-4457-c79a-ebaba6e07e90"
      },
      "execution_count": null,
      "outputs": [
        {
          "output_type": "stream",
          "name": "stdout",
          "text": [
            "College 25 ('College', 25)\n"
          ]
        }
      ]
    },
    {
      "cell_type": "code",
      "source": [
        "A = 10\n",
        "B = 20\n",
        "print(\"Addition of\",A,\"and\",B,\"is =\",A+B)"
      ],
      "metadata": {
        "colab": {
          "base_uri": "https://localhost:8080/"
        },
        "id": "-LLyJyqtRFkM",
        "outputId": "3bdda9fe-8313-4aba-9a8d-b2a45feffb27"
      },
      "execution_count": null,
      "outputs": [
        {
          "output_type": "stream",
          "name": "stdout",
          "text": [
            "Addition of 10 and 20 is = 30\n"
          ]
        }
      ]
    },
    {
      "cell_type": "code",
      "source": [
        "x = 100\n",
        "print (type(100))"
      ],
      "metadata": {
        "colab": {
          "base_uri": "https://localhost:8080/"
        },
        "id": "ySLB6uyFU0VG",
        "outputId": "93b700f0-f77e-442d-ff92-a262e46fdb07"
      },
      "execution_count": null,
      "outputs": [
        {
          "output_type": "stream",
          "name": "stdout",
          "text": [
            "<class 'int'>\n"
          ]
        }
      ]
    },
    {
      "cell_type": "code",
      "source": [
        "College = 3.33\n",
        "print (type(College))"
      ],
      "metadata": {
        "colab": {
          "base_uri": "https://localhost:8080/"
        },
        "id": "YiEJ9FteXyyF",
        "outputId": "dd2453ee-aba7-4397-84ee-048741657cf0"
      },
      "execution_count": null,
      "outputs": [
        {
          "output_type": "stream",
          "name": "stdout",
          "text": [
            "<class 'float'>\n"
          ]
        }
      ]
    },
    {
      "cell_type": "code",
      "source": [
        "Name = 3.17\n",
        "print(type(Name))"
      ],
      "metadata": {
        "colab": {
          "base_uri": "https://localhost:8080/"
        },
        "id": "BQ93gs_6Zba-",
        "outputId": "0beecba7-b61b-418c-9780-2be2a1b85533"
      },
      "execution_count": null,
      "outputs": [
        {
          "output_type": "stream",
          "name": "stdout",
          "text": [
            "<class 'float'>\n"
          ]
        }
      ]
    },
    {
      "cell_type": "code",
      "source": [
        "Run = 20.0\n",
        "print(type(Run))"
      ],
      "metadata": {
        "colab": {
          "base_uri": "https://localhost:8080/"
        },
        "id": "XZnxwSNTZtFY",
        "outputId": "7c179285-3d73-4c1f-9190-9eac0ae4fd65"
      },
      "execution_count": null,
      "outputs": [
        {
          "output_type": "stream",
          "name": "stdout",
          "text": [
            "<class 'float'>\n"
          ]
        }
      ]
    },
    {
      "cell_type": "code",
      "source": [
        "Programe = \"Programe\"\n",
        "print(type(Programe))"
      ],
      "metadata": {
        "colab": {
          "base_uri": "https://localhost:8080/"
        },
        "id": "XoYo0thhaTve",
        "outputId": "7068625b-648e-4daf-f2ae-7c9f214ff740"
      },
      "execution_count": null,
      "outputs": [
        {
          "output_type": "stream",
          "name": "stdout",
          "text": [
            "<class 'str'>\n"
          ]
        }
      ]
    },
    {
      "cell_type": "code",
      "source": [
        "string = \"Python programming languages\"\n",
        "print(string)"
      ],
      "metadata": {
        "colab": {
          "base_uri": "https://localhost:8080/"
        },
        "id": "WBDHvSMBag4u",
        "outputId": "11fe2c9f-30d2-4ad0-e6c6-b0d0a8da47e0"
      },
      "execution_count": null,
      "outputs": [
        {
          "output_type": "stream",
          "name": "stdout",
          "text": [
            "Python programming languages\n"
          ]
        }
      ]
    },
    {
      "cell_type": "code",
      "source": [
        "first = \"BKC\"\n",
        "Second = \"College\"\n",
        "print(((first + Second)+\"\\n\")*5)"
      ],
      "metadata": {
        "colab": {
          "base_uri": "https://localhost:8080/"
        },
        "id": "iid9t-_ifqPp",
        "outputId": "2d13f5b7-e7f6-4295-b231-7419e10772b6"
      },
      "execution_count": null,
      "outputs": [
        {
          "output_type": "stream",
          "name": "stdout",
          "text": [
            "BKCCollege\n",
            "BKCCollege\n",
            "BKCCollege\n",
            "BKCCollege\n",
            "BKCCollege\n",
            "\n"
          ]
        }
      ]
    },
    {
      "cell_type": "code",
      "source": [
        "Name = \"python programing languages\"\n",
        "print(Name[::-3])"
      ],
      "metadata": {
        "colab": {
          "base_uri": "https://localhost:8080/"
        },
        "id": "vgj3jO1xfu8W",
        "outputId": "1cd2c057-6f73-4898-ad28-27c98867c5ce"
      },
      "execution_count": null,
      "outputs": [
        {
          "output_type": "stream",
          "name": "stdout",
          "text": [
            "san irrnt\n"
          ]
        }
      ]
    },
    {
      "cell_type": "code",
      "source": [
        "Details =''' multi line comments\n",
        "hi, Good Morning\n",
        "'''\n",
        "print(Details)\n"
      ],
      "metadata": {
        "colab": {
          "base_uri": "https://localhost:8080/"
        },
        "id": "BqbnOnARsPWf",
        "outputId": "4979250a-dde5-463e-83eb-4920d87555fc"
      },
      "execution_count": null,
      "outputs": [
        {
          "output_type": "stream",
          "name": "stdout",
          "text": [
            " multi line comments\n",
            "hi, Good Morning\n",
            "\n"
          ]
        }
      ]
    },
    {
      "cell_type": "code",
      "source": [
        "Details = [101]\n",
        "print(Details)\n",
        "print(type(Details))\n",
        "Details.append(85.12)\n",
        "print(Details)\n",
        "Details.append(True)\n",
        "print(Details)\n",
        "print(len(Details))\n",
        "print(Details.pop())\n",
        "print(Details)\n",
        "Details.append(\"Owais\")\n",
        "print(Details)\n",
        "Details.append(-99)\n",
        "print(Details)\n",
        "print(len(Details))\n",
        "print(Details[2])\n",
        "print(Details[-1])\n",
        "Details.append(\"BKC College\")\n",
        "print(Details)\n",
        "Details[3]=99\n",
        "print(Details)\n",
        "print(Details[2:4])\n",
        "Details.insert(2,False)\n",
        "print(Details)\n",
        "Details.remove(False)\n",
        "print(Details)\n",
        "print(len(Details))\n",
        "print(Details[4])\n",
        "print(Details[::-1])\n",
        "print(Details.count(101))\n",
        "print(Details.clear())\n",
        "print(Details)\n",
        "print(type(Details))\n"
      ],
      "metadata": {
        "colab": {
          "base_uri": "https://localhost:8080/"
        },
        "id": "bcpCCJjGu9Fo",
        "outputId": "eee77f15-c472-4aaa-af76-ec279c0b1403"
      },
      "execution_count": null,
      "outputs": [
        {
          "output_type": "stream",
          "name": "stdout",
          "text": [
            "[101]\n",
            "<class 'list'>\n",
            "[101, 85.12]\n",
            "[101, 85.12, True]\n",
            "3\n",
            "True\n",
            "[101, 85.12]\n",
            "[101, 85.12, 'Owais']\n",
            "[101, 85.12, 'Owais', -99]\n",
            "4\n",
            "Owais\n",
            "-99\n",
            "[101, 85.12, 'Owais', -99, 'BKC College']\n",
            "[101, 85.12, 'Owais', 99, 'BKC College']\n",
            "['Owais', 99]\n",
            "[101, 85.12, False, 'Owais', 99, 'BKC College']\n",
            "[101, 85.12, 'Owais', 99, 'BKC College']\n",
            "5\n",
            "BKC College\n",
            "['BKC College', 99, 'Owais', 85.12, 101]\n",
            "1\n",
            "None\n",
            "[]\n",
            "<class 'list'>\n"
          ]
        }
      ]
    },
    {
      "cell_type": "code",
      "source": [],
      "metadata": {
        "id": "8lBxCrCcA3nK"
      },
      "execution_count": null,
      "outputs": []
    }
  ]
}