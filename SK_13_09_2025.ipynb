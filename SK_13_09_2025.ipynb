{
  "nbformat": 4,
  "nbformat_minor": 0,
  "metadata": {
    "colab": {
      "provenance": [],
      "include_colab_link": true
    },
    "kernelspec": {
      "name": "python3",
      "display_name": "Python 3"
    },
    "language_info": {
      "name": "python"
    }
  },
  "cells": [
    {
      "cell_type": "markdown",
      "metadata": {
        "id": "view-in-github",
        "colab_type": "text"
      },
      "source": [
        "<a href=\"https://colab.research.google.com/github/sujalkakade/python-daily-class/blob/main/SK_13_09_2025.ipynb\" target=\"_parent\"><img src=\"https://colab.research.google.com/assets/colab-badge.svg\" alt=\"Open In Colab\"/></a>"
      ]
    },
    {
      "cell_type": "code",
      "execution_count": null,
      "metadata": {
        "colab": {
          "base_uri": "https://localhost:8080/"
        },
        "id": "tVd9SH8iKiKb",
        "outputId": "0b5cadae-bf04-492f-8b5b-1b2c10617b88"
      },
      "outputs": [
        {
          "output_type": "stream",
          "name": "stdout",
          "text": [
            "Good Morning 18\n"
          ]
        }
      ],
      "source": [
        "a, b, c = \"Good\", \"Morning\", 18\n",
        "print(a, b, c)"
      ]
    },
    {
      "cell_type": "code",
      "source": [
        "Name, College, Degree, Roll= \"Sharath\", \"BK\", \"BCA\", 101\n",
        "print(\"Hi, Good Morning, I'm\",Name,\"i'm studying\",Degree,\"in\",College,\"College at Chikodi\",\"my roll no is\",Roll)"
      ],
      "metadata": {
        "colab": {
          "base_uri": "https://localhost:8080/"
        },
        "id": "yvk13ndoMFUG",
        "outputId": "9cef1828-53c5-4fdf-9a31-40fddf29c045"
      },
      "execution_count": null,
      "outputs": [
        {
          "output_type": "stream",
          "name": "stdout",
          "text": [
            "Hi, Good Morning, I'm Sharath i'm studying BCA in BK College at Chikodi my roll no is 101\n"
          ]
        }
      ]
    },
    {
      "cell_type": "code",
      "source": [
        "x = y = z = 1001\n",
        "print(x,y,z)"
      ],
      "metadata": {
        "colab": {
          "base_uri": "https://localhost:8080/"
        },
        "id": "D3WxmCYGQExe",
        "outputId": "c521181d-822e-4647-9d36-d42b6c50f91c"
      },
      "execution_count": null,
      "outputs": [
        {
          "output_type": "stream",
          "name": "stdout",
          "text": [
            "1001 1001 1001\n"
          ]
        }
      ]
    },
    {
      "cell_type": "code",
      "source": [
        "A = B, C = \"College\", 25\n",
        "print(B, C, A)"
      ],
      "metadata": {
        "colab": {
          "base_uri": "https://localhost:8080/"
        },
        "id": "j0FvZFjtQqn8",
        "outputId": "ce60ab5d-2806-4a28-8ad4-4d8690be2a88"
      },
      "execution_count": null,
      "outputs": [
        {
          "output_type": "stream",
          "name": "stdout",
          "text": [
            "College 25 ('College', 25)\n"
          ]
        }
      ]
    },
    {
      "cell_type": "code",
      "source": [
        "A = 10\n",
        "B = 20\n",
        "print(\"Addition of\",A,\"and\",B,\"is =\",A+B)"
      ],
      "metadata": {
        "colab": {
          "base_uri": "https://localhost:8080/"
        },
        "id": "-LLyJyqtRFkM",
        "outputId": "a98cf708-61ef-422a-b772-83f11d67b327"
      },
      "execution_count": null,
      "outputs": [
        {
          "output_type": "stream",
          "name": "stdout",
          "text": [
            "Addition of 10 and 20 is = 30\n"
          ]
        }
      ]
    },
    {
      "cell_type": "code",
      "source": [
        "x = 100\n",
        "print (type(100))"
      ],
      "metadata": {
        "colab": {
          "base_uri": "https://localhost:8080/"
        },
        "id": "ySLB6uyFU0VG",
        "outputId": "84c3867b-18b7-4ee2-9d2b-b50eb90af7d9"
      },
      "execution_count": null,
      "outputs": [
        {
          "output_type": "stream",
          "name": "stdout",
          "text": [
            "<class 'int'>\n"
          ]
        }
      ]
    },
    {
      "cell_type": "code",
      "source": [
        "College = 3.33\n",
        "print (type(College))"
      ],
      "metadata": {
        "colab": {
          "base_uri": "https://localhost:8080/"
        },
        "id": "YiEJ9FteXyyF",
        "outputId": "bb9876c8-1feb-4cb4-f580-d49eb23dbad8"
      },
      "execution_count": null,
      "outputs": [
        {
          "output_type": "stream",
          "name": "stdout",
          "text": [
            "<class 'float'>\n"
          ]
        }
      ]
    },
    {
      "cell_type": "code",
      "source": [
        "Name = 3.17\n",
        "print(type(Name))"
      ],
      "metadata": {
        "colab": {
          "base_uri": "https://localhost:8080/"
        },
        "id": "BQ93gs_6Zba-",
        "outputId": "32cfbf43-1bcb-45b6-be32-e2b0e4018a7d"
      },
      "execution_count": null,
      "outputs": [
        {
          "output_type": "stream",
          "name": "stdout",
          "text": [
            "<class 'float'>\n"
          ]
        }
      ]
    },
    {
      "cell_type": "code",
      "source": [
        "Run = 20.0\n",
        "print(type(Run))"
      ],
      "metadata": {
        "colab": {
          "base_uri": "https://localhost:8080/"
        },
        "id": "XZnxwSNTZtFY",
        "outputId": "d6651825-5bd0-4f6f-8e87-6d2d2d8f82e4"
      },
      "execution_count": null,
      "outputs": [
        {
          "output_type": "stream",
          "name": "stdout",
          "text": [
            "<class 'float'>\n"
          ]
        }
      ]
    },
    {
      "cell_type": "code",
      "source": [
        "Programe = \"Programe\"\n",
        "print(type(Programe))"
      ],
      "metadata": {
        "colab": {
          "base_uri": "https://localhost:8080/"
        },
        "id": "XoYo0thhaTve",
        "outputId": "321c904f-17e3-4322-c548-f71c014cf9b6"
      },
      "execution_count": null,
      "outputs": [
        {
          "output_type": "stream",
          "name": "stdout",
          "text": [
            "<class 'str'>\n"
          ]
        }
      ]
    },
    {
      "cell_type": "code",
      "source": [
        "string = \"Python programming languages\"\n",
        "print(string)"
      ],
      "metadata": {
        "colab": {
          "base_uri": "https://localhost:8080/"
        },
        "id": "WBDHvSMBag4u",
        "outputId": "8e574cbc-f204-4e27-a10f-c55bc1bafce3"
      },
      "execution_count": null,
      "outputs": [
        {
          "output_type": "stream",
          "name": "stdout",
          "text": [
            "Python programming languages\n"
          ]
        }
      ]
    },
    {
      "cell_type": "code",
      "source": [
        "first = \"BKC\"\n",
        "Second = \"College\"\n",
        "print(((first + Second)+\"\\n\")*5)"
      ],
      "metadata": {
        "colab": {
          "base_uri": "https://localhost:8080/"
        },
        "id": "iid9t-_ifqPp",
        "outputId": "6b2621ff-222b-4e9c-8deb-935eb5da4a88"
      },
      "execution_count": null,
      "outputs": [
        {
          "output_type": "stream",
          "name": "stdout",
          "text": [
            "BKCCollege\n",
            "BKCCollege\n",
            "BKCCollege\n",
            "BKCCollege\n",
            "BKCCollege\n",
            "\n"
          ]
        }
      ]
    },
    {
      "cell_type": "code",
      "source": [
        "Name = \"python programing languages\"\n",
        "print(Name[::-3])"
      ],
      "metadata": {
        "colab": {
          "base_uri": "https://localhost:8080/"
        },
        "id": "vgj3jO1xfu8W",
        "outputId": "78793f58-cf47-494b-b67a-291762015bf3"
      },
      "execution_count": null,
      "outputs": [
        {
          "output_type": "stream",
          "name": "stdout",
          "text": [
            "san irrnt\n"
          ]
        }
      ]
    },
    {
      "cell_type": "code",
      "source": [
        "Details =''' multi line comments\n",
        "hi, Good Morning\n",
        "'''\n",
        "print(Details)\n"
      ],
      "metadata": {
        "colab": {
          "base_uri": "https://localhost:8080/"
        },
        "id": "BqbnOnARsPWf",
        "outputId": "9c699af4-cdb9-4fb8-b5f7-cae9c1c8009b"
      },
      "execution_count": null,
      "outputs": [
        {
          "output_type": "stream",
          "name": "stdout",
          "text": [
            " multi line comments \n",
            "hi, Good Morning \n",
            "\n"
          ]
        }
      ]
    },
    {
      "cell_type": "code",
      "source": [
        "Details = [101]\n",
        "print(Details)\n",
        "print(type(Details))\n",
        "Details.append(85.12)\n",
        "print(Details)\n",
        "Details.append(True)\n",
        "print(Details)\n",
        "print(len(Details))\n",
        "print(Details.pop())\n",
        "print(Details)\n",
        "Details.append(\"Owais\")\n",
        "print(Details)\n",
        "Details.append(-99)\n",
        "print(Details)\n",
        "print(len(Details))\n",
        "print(Details[2])\n",
        "print(Details[-1])\n",
        "Details.append(\"BKC College\")\n",
        "print(Details)\n",
        "Details[3]=99\n",
        "print(Details)\n",
        "print(Details[2:4])\n",
        "Details.insert(2,False)\n",
        "print(Details)\n",
        "Details.remove(False)\n",
        "print(Details)\n",
        "print(len(Details))\n",
        "print(Details[4])\n",
        "print(Details[::-1])\n",
        "print(Details.count(101))\n",
        "print(Details.clear())\n",
        "print(Details)\n",
        "print(type(Details))\n"
      ],
      "metadata": {
        "colab": {
          "base_uri": "https://localhost:8080/"
        },
        "id": "bcpCCJjGu9Fo",
        "outputId": "f591388a-2d86-422d-e31d-23945a6f6a56"
      },
      "execution_count": null,
      "outputs": [
        {
          "output_type": "stream",
          "name": "stdout",
          "text": [
            "[101]\n",
            "<class 'list'>\n",
            "[101, 85.12]\n",
            "[101, 85.12, True]\n",
            "3\n",
            "True\n",
            "[101, 85.12]\n",
            "[101, 85.12, 'Owais']\n",
            "[101, 85.12, 'Owais', -99]\n",
            "4\n",
            "Owais\n",
            "-99\n",
            "[101, 85.12, 'Owais', -99, 'BKC College']\n",
            "[101, 85.12, 'Owais', 99, 'BKC College']\n",
            "['Owais', 99]\n",
            "[101, 85.12, False, 'Owais', 99, 'BKC College']\n",
            "[101, 85.12, 'Owais', 99, 'BKC College']\n",
            "5\n",
            "BKC College\n",
            "['BKC College', 99, 'Owais', 85.12, 101]\n",
            "1\n",
            "None\n",
            "[]\n",
            "<class 'list'>\n"
          ]
        }
      ]
    },
    {
      "cell_type": "code",
      "source": [
        "# heart_ascii.py\n",
        "s = \"\"\n",
        "for y in range(12, -12, -1):\n",
        "    for x in range(-30, 30):\n",
        "        # implicit equation for heart (approx)\n",
        "        xp = x * 0.04\n",
        "        yp = y * 0.1\n",
        "        value = (xp**2 + yp**2 - 1)**3 - xp**2 * yp**3\n",
        "        s += \"*\" if value <= 0 else \" \"\n",
        "    s += \"\\n\"\n",
        "print(s)"
      ],
      "metadata": {
        "id": "PS3KqosXgBEt",
        "outputId": "5127b996-39ba-4bd9-f763-6be1c7d55e1b",
        "colab": {
          "base_uri": "https://localhost:8080/"
        }
      },
      "execution_count": null,
      "outputs": [
        {
          "output_type": "stream",
          "name": "stdout",
          "text": [
            "            ***********               ***********           \n",
            "        ********************     ********************       \n",
            "     ***************************************************    \n",
            "    *****************************************************   \n",
            "   *******************************************************  \n",
            "  ********************************************************* \n",
            "  ********************************************************* \n",
            "  ********************************************************* \n",
            "  ********************************************************* \n",
            "   *******************************************************  \n",
            "   *******************************************************  \n",
            "    *****************************************************   \n",
            "     ***************************************************    \n",
            "       ***********************************************      \n",
            "        *********************************************       \n",
            "          *****************************************         \n",
            "            *************************************           \n",
            "               *******************************              \n",
            "                  *************************                 \n",
            "                     *******************                    \n",
            "                         ***********                        \n",
            "                            *****                           \n",
            "                              *                             \n",
            "                                                            \n",
            "\n"
          ]
        }
      ]
    }
  ]
}