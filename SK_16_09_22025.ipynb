{
  "nbformat": 4,
  "nbformat_minor": 0,
  "metadata": {
    "colab": {
      "provenance": [],
      "authorship_tag": "ABX9TyPpa9UJpM7yv0SrbWYIyrdf",
      "include_colab_link": true
    },
    "kernelspec": {
      "name": "python3",
      "display_name": "Python 3"
    },
    "language_info": {
      "name": "python"
    }
  },
  "cells": [
    {
      "cell_type": "markdown",
      "metadata": {
        "id": "view-in-github",
        "colab_type": "text"
      },
      "source": [
        "<a href=\"https://colab.research.google.com/github/sujalkakade/python-daily-class/blob/main/SK_16_09_22025.ipynb\" target=\"_parent\"><img src=\"https://colab.research.google.com/assets/colab-badge.svg\" alt=\"Open In Colab\"/></a>"
      ]
    },
    {
      "cell_type": "code",
      "execution_count": null,
      "metadata": {
        "colab": {
          "base_uri": "https://localhost:8080/"
        },
        "id": "IHGetKFGI_3t",
        "outputId": "e720d21e-db80-4a61-a8e8-b9fe4e90dac9"
      },
      "outputs": [
        {
          "output_type": "stream",
          "name": "stdout",
          "text": [
            "True\n",
            "False\n",
            "False\n",
            "True\n",
            "False\n",
            "True\n"
          ]
        }
      ],
      "source": [
        "number1= 35\n",
        "number2= 40\n",
        "print(number1<number2)\n",
        "print(number1>number2)\n",
        "print(number1==40)\n",
        "print(number1!=number2)\n",
        "print(number1>=number2)\n",
        "print(number1<=number2)"
      ]
    },
    {
      "cell_type": "code",
      "source": [
        "a=20\n",
        "b=35\n",
        "c=13\n",
        "d=10\n",
        "print( a==b and c<d)\n",
        "print(13!=c and d<c)\n",
        "print(b>a and d<c)\n",
        "print(20!=a and c==b)\n",
        "print(a<b or d==c)\n",
        "print((not(a<b))and 100 <200)\n",
        "print(not(d==10))\n",
        "print(35!=d or(not(20==a)))\n",
        "print(not(c<=b and (not(a<=c))))\n",
        "print()"
      ],
      "metadata": {
        "colab": {
          "base_uri": "https://localhost:8080/"
        },
        "id": "yRykXsPdJPPC",
        "outputId": "7581ea44-87b0-40eb-894c-b31de29c005d"
      },
      "execution_count": null,
      "outputs": [
        {
          "output_type": "stream",
          "name": "stdout",
          "text": [
            "False\n",
            "False\n",
            "True\n",
            "False\n",
            "True\n",
            "False\n",
            "False\n",
            "True\n",
            "False\n"
          ]
        }
      ]
    },
    {
      "cell_type": "code",
      "source": [
        "x=10\n",
        "print(x)\n",
        "\n",
        "x-=2  #x=x -2,x=10-2\n",
        "print(x)\n",
        "\n",
        "x*=5\n",
        "print(x)\n",
        "\n",
        "x//=3\n",
        "print(x)\n",
        "\n",
        "x**=2\n",
        "print(x)\n",
        "\n",
        "x%=4\n",
        "print(x)\n",
        "\n",
        "x+=9\n",
        "print(x)\n",
        "\n",
        "x/=3\n",
        "print(3)\n",
        "\n"
      ],
      "metadata": {
        "colab": {
          "base_uri": "https://localhost:8080/"
        },
        "id": "JniYsCQWRTRN",
        "outputId": "91ea61e5-a85f-48cb-9ccd-962bfd76cc54"
      },
      "execution_count": null,
      "outputs": [
        {
          "output_type": "stream",
          "name": "stdout",
          "text": [
            "10\n",
            "8\n",
            "40\n",
            "13\n",
            "169\n",
            "1\n",
            "10\n",
            "3\n"
          ]
        }
      ]
    },
    {
      "cell_type": "code",
      "source": [
        "Num=9\n",
        "if Num<10:\n",
        "  print(\"10 is greater than 9\")"
      ],
      "metadata": {
        "colab": {
          "base_uri": "https://localhost:8080/"
        },
        "id": "bYOjyMwoui92",
        "outputId": "6c49d52d-ab0a-41e4-8bf4-8b244577709c"
      },
      "execution_count": null,
      "outputs": [
        {
          "output_type": "stream",
          "name": "stdout",
          "text": [
            "10 is greater than 9\n"
          ]
        }
      ]
    },
    {
      "cell_type": "code",
      "source": [
        "User_id=\"20MCA103\"\n",
        "Password=1234\n",
        "if User_id==\"20MCA103\" and Password==1234:\n",
        "  print(\"Login Successful\")\n"
      ],
      "metadata": {
        "colab": {
          "base_uri": "https://localhost:8080/"
        },
        "id": "n0VHWFXau_9G",
        "outputId": "ebe73cd8-6e97-4b1c-928a-236fef5c22ae"
      },
      "execution_count": null,
      "outputs": [
        {
          "output_type": "stream",
          "name": "stdout",
          "text": [
            "Login Successful\n"
          ]
        }
      ]
    },
    {
      "cell_type": "code",
      "source": [
        "Ex=59\n",
        "if Ex==58:\n",
        "  print(\"Are you understand\")"
      ],
      "metadata": {
        "id": "qZYjNrARvrVn"
      },
      "execution_count": null,
      "outputs": []
    },
    {
      "cell_type": "code",
      "source": [
        "Name=\"sujal\"\n",
        "if Name<=\"BKC\":\n",
        "  print(\"MYNAme is sujal\")"
      ],
      "metadata": {
        "id": "RtBy6YVSwWIV"
      },
      "execution_count": null,
      "outputs": []
    },
    {
      "cell_type": "code",
      "source": [
        " Num =int(input(\"Enter a number value:\"))\n",
        " if Num>0 :\n",
        "  print(\"Positive number\")\n",
        " else:\n",
        "    print(\"Negative Number\")"
      ],
      "metadata": {
        "colab": {
          "base_uri": "https://localhost:8080/"
        },
        "id": "PR0coIynyWTn",
        "outputId": "dc06dddb-1100-4bf4-bf86-cf9e7facbac4"
      },
      "execution_count": null,
      "outputs": [
        {
          "output_type": "stream",
          "name": "stdout",
          "text": [
            "Enter a number value:99\n",
            "Positive number\n"
          ]
        }
      ]
    },
    {
      "cell_type": "code",
      "source": [
        "NUM=int(input(\"Enter a number value:\"))\n",
        "if NUM%2==0:\n",
        "  print(\"Even Number\")\n",
        "else:\n",
        "  print(\"Odd Number\")"
      ],
      "metadata": {
        "colab": {
          "base_uri": "https://localhost:8080/"
        },
        "id": "RVsyQS3y0ZqN",
        "outputId": "ea09262a-3f87-4417-cfda-f61cb8455a55"
      },
      "execution_count": null,
      "outputs": [
        {
          "output_type": "stream",
          "name": "stdout",
          "text": [
            "Enter a number value:2\n",
            "Even Number\n"
          ]
        }
      ]
    },
    {
      "cell_type": "code",
      "source": [
        "Year=int(input(\"Enter a Year:\"))\n",
        "if Year%4==0:\n",
        "  print(\"Leap Year\")\n",
        "else:\n",
        "  print(\"Not a Leap Year\")"
      ],
      "metadata": {
        "colab": {
          "base_uri": "https://localhost:8080/"
        },
        "id": "3YuxgQ3V2El-",
        "outputId": "b2bbb92c-9762-40b9-91e1-abec8efaf356"
      },
      "execution_count": null,
      "outputs": [
        {
          "output_type": "stream",
          "name": "stdout",
          "text": [
            "Enter a Year:2024\n",
            "Leap Year\n"
          ]
        }
      ]
    },
    {
      "cell_type": "code",
      "source": [
        "Age=int(input(\"Enter a Age:\"))\n",
        "if Age>=18:\n",
        "  print(\"Eligible for Voting\")\n",
        "else:\n",
        "  print(\"Not Eligible for Voting\")"
      ],
      "metadata": {
        "colab": {
          "base_uri": "https://localhost:8080/"
        },
        "id": "p-SvTPQN4svW",
        "outputId": "1000f54a-f9c4-4f22-a094-a2fea44382e6"
      },
      "execution_count": null,
      "outputs": [
        {
          "output_type": "stream",
          "name": "stdout",
          "text": [
            "Enter a Age:17\n",
            "Not Eligible for Voting\n"
          ]
        }
      ]
    },
    {
      "cell_type": "code",
      "source": [
        "User_id=input(\"Enter user-id:\")\n",
        "Password=input(\"Enter Password:\")\n",
        "if User_id==\"College\" and Password==\"1234\":\n",
        "  print(\"Login Successful\")\n",
        "else:\n",
        "  print(\"Invaild  Failed\")"
      ],
      "metadata": {
        "colab": {
          "base_uri": "https://localhost:8080/"
        },
        "id": "whLlIYq55Jkm",
        "outputId": "fce143db-7caf-43e6-f8c1-84d5f7c46276"
      },
      "execution_count": null,
      "outputs": [
        {
          "output_type": "stream",
          "name": "stdout",
          "text": [
            "Enter user-id:College\n",
            "Enter Password:1234\n",
            "Login Successful\n"
          ]
        }
      ]
    },
    {
      "cell_type": "code",
      "source": [
        "Result = int(input(\"Enter a Result:\"))\n",
        "if Result>=99:\n",
        "  print(\"First class\")\n",
        "elif Result>=75:\n",
        "  print(\"Second class\")\n",
        "elif Result>=35:\n",
        "   print(\"Third class\")\n",
        "else:\n",
        "    print(\"Fail better luck next chance\")\n",
        "\n",
        "\n",
        "\n"
      ],
      "metadata": {
        "colab": {
          "base_uri": "https://localhost:8080/"
        },
        "id": "GJcS8BL0-BGO",
        "outputId": "9cc36498-66b1-4421-f150-870bc9313182"
      },
      "execution_count": null,
      "outputs": [
        {
          "output_type": "stream",
          "name": "stdout",
          "text": [
            "Enter a Result:67\n",
            "Third class\n"
          ]
        }
      ]
    },
    {
      "cell_type": "code",
      "source": [
        "prize=input(\"Enter a prize:\")\n",
        "if prize==\"Gold\":\n",
        "   print(\"first prize\")\n",
        "elif prize==\"Silver\":\n",
        "    print(\"second prize\")\n",
        "elif prize==\"Bronze\":\n",
        "   print(\"third prize\")\n",
        "else:\n",
        "  print(\"no prize\")"
      ],
      "metadata": {
        "colab": {
          "base_uri": "https://localhost:8080/"
        },
        "id": "WalFcltGDVcO",
        "outputId": "876faa6e-aaf0-4cf7-8207-c91fb33a4234"
      },
      "execution_count": null,
      "outputs": [
        {
          "output_type": "stream",
          "name": "stdout",
          "text": [
            "Enter a prize:red\n",
            "no prize\n"
          ]
        }
      ]
    },
    {
      "cell_type": "code",
      "source": [
        "\n",
        "Signal = input(\"Enter a Signal:\")\n",
        "if Signal==\"Red\":\n",
        "  print(\"Stop\")\n",
        "elif Signal==\"Yellow\":\n",
        "  print(\"Ready\")\n",
        "elif Signal==\"Green\":\n",
        "  print(\"Go\")\n",
        "else:\n",
        "  print(\"Invalid\")\n"
      ],
      "metadata": {
        "colab": {
          "base_uri": "https://localhost:8080/"
        },
        "id": "4js0s1EXFIfH",
        "outputId": "7914b95f-59f5-42bd-cccd-5042b99097d6"
      },
      "execution_count": null,
      "outputs": [
        {
          "output_type": "stream",
          "name": "stdout",
          "text": [
            "Enter a Signal:Green\n",
            "Go\n"
          ]
        }
      ]
    }
  ]
}