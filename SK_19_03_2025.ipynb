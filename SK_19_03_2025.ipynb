{
  "nbformat": 4,
  "nbformat_minor": 0,
  "metadata": {
    "colab": {
      "provenance": [],
      "authorship_tag": "ABX9TyPTrTBDTcTF2h9LTFrxgz+e",
      "include_colab_link": true
    },
    "kernelspec": {
      "name": "python3",
      "display_name": "Python 3"
    },
    "language_info": {
      "name": "python"
    }
  },
  "cells": [
    {
      "cell_type": "markdown",
      "metadata": {
        "id": "view-in-github",
        "colab_type": "text"
      },
      "source": [
        "<a href=\"https://colab.research.google.com/github/sujalkakade/python-daily-class/blob/main/SK_19_03_2025.ipynb\" target=\"_parent\"><img src=\"https://colab.research.google.com/assets/colab-badge.svg\" alt=\"Open In Colab\"/></a>"
      ]
    },
    {
      "cell_type": "code",
      "execution_count": 72,
      "metadata": {
        "colab": {
          "base_uri": "https://localhost:8080/"
        },
        "id": "AWy6Ii5NIVED",
        "outputId": "e988ab99-e2d3-4628-ea19-1209f47fe59d"
      },
      "outputs": [
        {
          "output_type": "stream",
          "name": "stdout",
          "text": [
            "Total value is: 15\n",
            "Total value is: 18\n",
            "Total value is: 90\n"
          ]
        }
      ],
      "source": [
        "# 1 Example sum of number using *args\n",
        "def add (*args):\n",
        "   total=0\n",
        "   for num in args:\n",
        "      total+=num\n",
        "   print(\"Total value is:\",total)\n",
        "add(10,5)\n",
        "add(5,4,9)\n",
        "add(10,46,14,20)\n"
      ]
    },
    {
      "cell_type": "code",
      "source": [
        "def print_details (**kwargs):\n",
        "  for key, value in kwargs.items():\n",
        "     print(f\"{key}={value}\")\n",
        "\n",
        "print_details(name='sujal',age=19,city='chikodi')"
      ],
      "metadata": {
        "colab": {
          "base_uri": "https://localhost:8080/"
        },
        "id": "CY9X4KCSLIWU",
        "outputId": "ef5af55f-f85b-4977-c4e7-52d0fc54fc69"
      },
      "execution_count": 73,
      "outputs": [
        {
          "output_type": "stream",
          "name": "stdout",
          "text": [
            "name=sujal\n",
            "age=19\n",
            "city=chikodi\n"
          ]
        }
      ]
    },
    {
      "cell_type": "code",
      "source": [
        "def details (** kwargs):\n",
        "    for key,value in kwargs.items():\n",
        "      print(f'My details is {key} and {value}')\n",
        "\n",
        "details(course=\"BCA\",section='C',college=\"BK collge\")\n",
        "details(place=\"chikodi\")\n",
        "details(roll_num=201,T_subject=7)\n",
        "details(Laptop=\"Lenovo\",O_S=\"windo\",year = 2025,  version = \"windows\")\n"
      ],
      "metadata": {
        "colab": {
          "base_uri": "https://localhost:8080/"
        },
        "id": "Ll03__HdMyA1",
        "outputId": "bac0a18a-4300-4fc2-fd9b-f0c2fed180be"
      },
      "execution_count": 74,
      "outputs": [
        {
          "output_type": "stream",
          "name": "stdout",
          "text": [
            "My details is course and BCA\n",
            "My details is section and C\n",
            "My details is college and BK collge\n",
            "My details is place and chikodi\n",
            "My details is roll_num and 201\n",
            "My details is T_subject and 7\n",
            "My details is Laptop and Lenovo\n",
            "My details is O_S and windo\n",
            "My details is year and 2025\n",
            "My details is version and windows\n"
          ]
        }
      ]
    },
    {
      "cell_type": "code",
      "source": [
        "# Example of *args and **kwargs\n",
        "def Show_values(*args,**kwargs):\n",
        "    print(\"Positional Arguments represented in Tuple\",args)\n",
        "    print(\"Key - words Arguments represented in Dict \",kwargs)\n",
        "Show_values(1,2,3,4,name=\"sujal\")\n",
        "\n",
        "Show_values(5,8,1,10,Class = \"BCA C section\",Gender = \"Male\")\n",
        "\n"
      ],
      "metadata": {
        "colab": {
          "base_uri": "https://localhost:8080/"
        },
        "id": "YdzaXt10SXXk",
        "outputId": "1372366c-e296-48f2-9c1b-bf98cb0be692"
      },
      "execution_count": 75,
      "outputs": [
        {
          "output_type": "stream",
          "name": "stdout",
          "text": [
            "Positional Arguments represented in Tuple (1, 2, 3, 4)\n",
            "Key - words Arguments represented in Dict  {'name': 'sujal'}\n",
            "Positional Arguments represented in Tuple (5, 8, 1, 10)\n",
            "Key - words Arguments represented in Dict  {'Class': 'BCA C section', 'Gender': 'Male'}\n"
          ]
        }
      ]
    },
    {
      "cell_type": "code",
      "source": [
        "def fact (num):\n",
        "    if num==0 or num ==1:\n",
        "      return 1\n",
        "    else:\n",
        "       return num*fact(num-1)\n",
        "(fact(5))"
      ],
      "metadata": {
        "colab": {
          "base_uri": "https://localhost:8080/"
        },
        "id": "Hueu40P0TB4V",
        "outputId": "08bc96b2-36b8-493d-956d-b7f91d88a616"
      },
      "execution_count": 76,
      "outputs": [
        {
          "output_type": "execute_result",
          "data": {
            "text/plain": [
              "120"
            ]
          },
          "metadata": {},
          "execution_count": 76
        }
      ]
    },
    {
      "cell_type": "code",
      "source": [
        "def Sum (num):\n",
        "  if num==0:\n",
        "     return num\n",
        "  else:\n",
        "     return num+Sum(num-1)\n",
        "  print(\"Sum of N natural number is :\", Sum (10))\n"
      ],
      "metadata": {
        "id": "dNzrvQAJXOUv"
      },
      "execution_count": 77,
      "outputs": []
    },
    {
      "cell_type": "code",
      "source": [
        "# Fibonacci series/ number using function recursion\n",
        "def fibo (num):\n",
        "  if num<=1:\n",
        "    return num\n",
        "  else:\n",
        "    return fibo (num-1) + fibo (num-2)\n",
        "\n",
        "for i in range(11):\n",
        "  print(fibo(i),end=\" \")"
      ],
      "metadata": {
        "colab": {
          "base_uri": "https://localhost:8080/"
        },
        "id": "yr4mtFQKckwX",
        "outputId": "b2ab9e96-21a3-489b-d4ad-e4850ad371f5"
      },
      "execution_count": 78,
      "outputs": [
        {
          "output_type": "stream",
          "name": "stdout",
          "text": [
            "0 1 1 2 3 5 8 13 21 34 55 "
          ]
        }
      ]
    },
    {
      "cell_type": "code",
      "source": [
        "name=\"vasu\"\n",
        "print(name[:4])"
      ],
      "metadata": {
        "colab": {
          "base_uri": "https://localhost:8080/"
        },
        "id": "dScicK1mjgqf",
        "outputId": "6e822d03-7857-4ac1-f431-bf701d1e54b2"
      },
      "execution_count": 80,
      "outputs": [
        {
          "output_type": "stream",
          "name": "stdout",
          "text": [
            "vasu\n"
          ]
        }
      ]
    },
    {
      "cell_type": "code",
      "source": [
        "class fruit:\n",
        "  colour=\"orange\"\n",
        "  price=250\n",
        "  Teste='sweet'\n",
        "  Shape= \"circle\"\n",
        "  def juice (self):\n",
        "    print(\"good\")\n",
        "orange=fruit()\n",
        "print(\"orange colour is\",orange.colour)\n",
        "orange.juice()\n",
        ""
      ],
      "metadata": {
        "colab": {
          "base_uri": "https://localhost:8080/"
        },
        "id": "ssdpI9r5mHzJ",
        "outputId": "694d098d-4baa-418b-b529-0b9528d5e5aa"
      },
      "execution_count": 102,
      "outputs": [
        {
          "output_type": "stream",
          "name": "stdout",
          "text": [
            "orange colour is orange\n",
            "good\n"
          ]
        }
      ]
    },
    {
      "cell_type": "code",
      "source": [
        "class flower:\n",
        "  smell =\"nice\"\n",
        "  petal=\"5\"\n",
        "  size=\"medium\"\n",
        "  gender=\"male\"\n",
        "  validity=\"1.5\"\n",
        "  def decoration(self):\n",
        "    print(\"hello good morning\")\n",
        "  def gift(self):\n",
        "    print(\"good afternon\")\n",
        "  def marriage(self):\n",
        "    print(\"marriage\")\n",
        "  def deat(self):\n",
        "     print(\"This flower using for death time\")\n",
        "\n",
        "Ob  = flower()\n",
        "Ob.marriage()\n",
        "print(Ob.gender)\n",
        "Ob.decoration()\n"
      ],
      "metadata": {
        "colab": {
          "base_uri": "https://localhost:8080/"
        },
        "id": "prRwnOQPu8Zp",
        "outputId": "95b344f3-cc33-4c65-8668-d10620ccdf13"
      },
      "execution_count": 119,
      "outputs": [
        {
          "output_type": "stream",
          "name": "stdout",
          "text": [
            "marriage\n",
            "male\n",
            "hello good morning\n"
          ]
        }
      ]
    },
    {
      "cell_type": "code",
      "source": [
        "\n",
        "class fan:\n",
        "  colours=\"black\"\n",
        "  wings=3\n",
        "  c_name=\"bajaj\"\n",
        "  price=1500\n",
        "  warranty=\"2 years\"\n",
        "  def start(self):\n",
        "    print(\"when click on button it'll start\")\n",
        "  def speed(self):\n",
        "    print(\"based on condition it'll move fast\")\n",
        "  def stop(self):\n",
        "    print(\"when click on off button it'll stop\")\n",
        "\n",
        "obj=fan()\n",
        "print(obj.c_name+\" \"+obj.warranty)\n",
        "obj.stop()\n",
        "obj.start()"
      ],
      "metadata": {
        "colab": {
          "base_uri": "https://localhost:8080/"
        },
        "id": "sYs6_db9yJVy",
        "outputId": "2386d6bc-6529-4fd9-ffad-3650b8cedda4"
      },
      "execution_count": 124,
      "outputs": [
        {
          "output_type": "stream",
          "name": "stdout",
          "text": [
            "bajaj 2 years\n",
            "when click on off button it'll stop\n",
            "when click on button it'll start\n"
          ]
        }
      ]
    },
    {
      "cell_type": "code",
      "source": [
        "def fun (name):\n",
        "    print(\"My name is a \",name)\n",
        "fun (\"sujal\")"
      ],
      "metadata": {
        "colab": {
          "base_uri": "https://localhost:8080/"
        },
        "id": "H6CttSjayIiq",
        "outputId": "fd5606bc-205c-49a7-b954-00db1262c89d"
      },
      "execution_count": 128,
      "outputs": [
        {
          "output_type": "stream",
          "name": "stdout",
          "text": [
            "My name is a  sujal\n"
          ]
        }
      ]
    },
    {
      "cell_type": "code",
      "source": [
        "# Banking Example\n",
        "class Bank :\n",
        "    def __init__(self,balance):\n",
        "      self.balance = balance\n",
        "\n",
        "    def dDeposit(self,amount):\n",
        "        self.balance += amount\n",
        "\n",
        "    def Withdraw(self,amount):\n",
        "        if amount <= self.balance:\n",
        "            self.balance -= amount\n",
        "            print(\"Transaction Successfully\")\n",
        "        else:\n",
        "            print(\"Insufficient balance\")\n",
        "\n",
        "    def re_balance(self):\n",
        "        return self.balance\n",
        "\n",
        "Obj = Bank(1000)\n",
        "print(Obj.balance)\n",
        "Obj.dDeposit(500)\n",
        "print(Obj.balance)\n",
        "Obj.Withdraw(700)\n",
        "print(Obj.re_balance())\n",
        "Obj.dDeposit(1000)\n",
        "print(\"Current total balance is : \",Obj.balance)\n",
        "Obj.Withdraw(2000)\n",
        "Obj.Withdraw(300)\n",
        "print(Obj.re_balance())\n",
        "\n",
        "\n",
        "\n",
        "\n",
        "\n"
      ],
      "metadata": {
        "colab": {
          "base_uri": "https://localhost:8080/"
        },
        "id": "9Mj5WckQ1czT",
        "outputId": "5714a715-907a-4f82-fc44-d66cdacc0554"
      },
      "execution_count": 154,
      "outputs": [
        {
          "output_type": "stream",
          "name": "stdout",
          "text": [
            "1000\n",
            "1500\n",
            "Transaction Successfully\n",
            "800\n",
            "Current total balance is :  1800\n",
            "Insufficient balance\n",
            "Transaction Successfully\n",
            "1500\n"
          ]
        }
      ]
    },
    {
      "cell_type": "code",
      "source": [
        "from logging import PlaceHolder\n",
        "#Encapulation Example\n",
        "class student :\n",
        "  def __init__(self,name,marks,place):\n",
        "     self.__name = name        #private variable\n",
        "     self.__marks = marks      #private variable\n",
        "     self.__place = place      #public variable\n",
        "\n",
        "  def set_method(self,name,marks):\n",
        "      self.__name =name\n",
        "      self.__marks=marks\n",
        "\n",
        "\n",
        "  def get_method(self):\n",
        "    return self.__name +\" \"+str(self.__marks)\n",
        "\n",
        "\n",
        "Obj = student(\"Sujal\",85,\"chikodi\")\n",
        "Obj.set_method(\"sujal\", 90) # Added a placeholder for marks\n",
        "print(Obj.get_method()) # Corrected the method call"
      ],
      "metadata": {
        "colab": {
          "base_uri": "https://localhost:8080/"
        },
        "id": "TFxFHZYXPj2W",
        "outputId": "708f9240-60af-486b-f9d1-798472c833de"
      },
      "execution_count": 165,
      "outputs": [
        {
          "output_type": "stream",
          "name": "stdout",
          "text": [
            "sujal 90\n"
          ]
        }
      ]
    },
    {
      "cell_type": "code",
      "source": [
        "clss parent:\n",
        "  def Work(self)\n",
        "      print(\"My parent are doing forming\")\n",
        "\n",
        "clss children(Parent):\n",
        "  def study(self)\n",
        "        print(\"I'm studing BCA in BK College\")\n",
        "\n",
        "ch = children()\n",
        "ch.Work()\n",
        "ch.study()\n",
        "\n"
      ],
      "metadata": {
        "colab": {
          "base_uri": "https://localhost:8080/",
          "height": 106
        },
        "id": "J_HJqFWKb0AI",
        "outputId": "a8559ad6-9794-407c-a31c-850dc39302de"
      },
      "execution_count": 168,
      "outputs": [
        {
          "output_type": "error",
          "ename": "SyntaxError",
          "evalue": "invalid syntax (ipython-input-793207433.py, line 1)",
          "traceback": [
            "\u001b[0;36m  File \u001b[0;32m\"/tmp/ipython-input-793207433.py\"\u001b[0;36m, line \u001b[0;32m1\u001b[0m\n\u001b[0;31m    Clss Parent:\u001b[0m\n\u001b[0m         ^\u001b[0m\n\u001b[0;31mSyntaxError\u001b[0m\u001b[0;31m:\u001b[0m invalid syntax\n"
          ]
        }
      ]
    },
    {
      "cell_type": "code",
      "source": [
        "class Father:\n",
        "   def Hi(self):\n",
        "       print(\"My father is my first hero\")\n",
        "\n",
        "class Mother :\n",
        "  def by(self):\n",
        "      print(\"My mother is a house wife\")\n",
        "\n",
        "\n",
        "class child (Father , Mother):\n",
        "     def bye (self):\n",
        "       print(\"I'm working as a freelancer\")\n",
        "\n",
        "Obj = child()\n",
        "Obj.Hi()\n",
        "Obj.by()\n",
        "Obj.bye()\n",
        ""
      ],
      "metadata": {
        "colab": {
          "base_uri": "https://localhost:8080/"
        },
        "id": "0o-wErJqdcOh",
        "outputId": "8ff21b8a-be86-47ee-d44c-6cc8a5a547f6"
      },
      "execution_count": 189,
      "outputs": [
        {
          "output_type": "stream",
          "name": "stdout",
          "text": [
            "My father is my first hero\n",
            "My mother is a house wife\n",
            "I'm working as a freelancer\n"
          ]
        }
      ]
    },
    {
      "cell_type": "code",
      "source": [
        "class Grand_Parent:\n",
        "  def Formar(self):\n",
        "    print(\"💢💢💢💢\")\n",
        "\n",
        "class Parent(Grand_Parent):\n",
        "   def House(self):\n",
        "      print(\"My parent are doing forming\")\n",
        "\n",
        "class Child(Parent):\n",
        "  def study(self):\n",
        "        print(\"I'm studing BCA in BK College\")\n",
        "\n",
        "Obj = Child()\n",
        "Obj.House()\n",
        "Obj.Formar()"
      ],
      "metadata": {
        "colab": {
          "base_uri": "https://localhost:8080/"
        },
        "id": "t6vew571fNaW",
        "outputId": "a5fa4233-7f1b-454f-88bf-b63d62cb62ae"
      },
      "execution_count": 192,
      "outputs": [
        {
          "output_type": "stream",
          "name": "stdout",
          "text": [
            "My parent are doing forming\n",
            "💢💢💢💢\n"
          ]
        }
      ]
    },
    {
      "cell_type": "code",
      "source": [
        "class parent :\n",
        "  def business(selfl):\n",
        "      print(\"my parentare doing business\")\n",
        "\n",
        "class child(parent):\n",
        "   def study(self):\n",
        "       print(\"'m studing BCA\")\n",
        "\n",
        "class child2(parent):\n",
        "   def study(self):\n",
        "       print(\"i'm studying BCA\")\n",
        "\n",
        "  Ch = child()\n",
        "  Ch.business()\n",
        "  Ch.study()\n",
        "\n",
        "  ch2 = child2()\n",
        "  ch2.business()\n",
        "  ch2.study()\n",
        "\n",
        "\n",
        "\n",
        "\n",
        "\n"
      ],
      "metadata": {
        "colab": {
          "base_uri": "https://localhost:8080/",
          "height": 106
        },
        "id": "PKB3v6pgib2y",
        "outputId": "91be4961-23ea-4119-fd0c-ea015ac33ef1"
      },
      "execution_count": 199,
      "outputs": [
        {
          "output_type": "error",
          "ename": "IndentationError",
          "evalue": "unindent does not match any outer indentation level (<tokenize>, line 13)",
          "traceback": [
            "\u001b[0;36m  File \u001b[0;32m\"<tokenize>\"\u001b[0;36m, line \u001b[0;32m13\u001b[0m\n\u001b[0;31m    Ch = child()\u001b[0m\n\u001b[0m    ^\u001b[0m\n\u001b[0;31mIndentationError\u001b[0m\u001b[0;31m:\u001b[0m unindent does not match any outer indentation level\n"
          ]
        }
      ]
    },
    {
      "cell_type": "code",
      "source": [],
      "metadata": {
        "id": "IDSk6WWFk01K"
      },
      "execution_count": null,
      "outputs": []
    },
    {
      "cell_type": "code",
      "source": [
        "class A:\n",
        "  def Hi(self):\n",
        "    print(\"Hiiiiiiiii\")\n",
        "\n",
        "class B(A):\n",
        "  def Hello(self):\n",
        "    print(\"Helloooooo\")\n",
        "\n",
        "class D(B,C):\n",
        "  def Good (self):\n",
        "    print(\"Goodddddddd\")\n",
        "\n",
        " Obj = D()\n",
        " Obj.Hi()\n",
        " Obj.Hello()\n",
        " Obj.Bye()\n",
        " Oj.Good()"
      ],
      "metadata": {
        "colab": {
          "base_uri": "https://localhost:8080/",
          "height": 106
        },
        "id": "OZP1z5IQnNT6",
        "outputId": "2b9bc8ae-ea94-4c00-ee4f-84c01fab9b58"
      },
      "execution_count": 201,
      "outputs": [
        {
          "output_type": "error",
          "ename": "IndentationError",
          "evalue": "unindent does not match any outer indentation level (<tokenize>, line 13)",
          "traceback": [
            "\u001b[0;36m  File \u001b[0;32m\"<tokenize>\"\u001b[0;36m, line \u001b[0;32m13\u001b[0m\n\u001b[0;31m    Obj = D()\u001b[0m\n\u001b[0m    ^\u001b[0m\n\u001b[0;31mIndentationError\u001b[0m\u001b[0;31m:\u001b[0m unindent does not match any outer indentation level\n"
          ]
        }
      ]
    },
    {
      "cell_type": "code",
      "source": [
        "class"
      ],
      "metadata": {
        "id": "M_agSvRvoadq"
      },
      "execution_count": null,
      "outputs": []
    },
    {
      "cell_type": "code",
      "source": [],
      "metadata": {
        "id": "V82RbwJ_nMb5"
      },
      "execution_count": null,
      "outputs": []
    }
  ]
}