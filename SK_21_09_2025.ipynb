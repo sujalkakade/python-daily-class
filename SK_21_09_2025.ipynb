{
  "nbformat": 4,
  "nbformat_minor": 0,
  "metadata": {
    "colab": {
      "provenance": [],
      "authorship_tag": "ABX9TyNPrKcyaubzuLOkethzdfiN",
      "include_colab_link": true
    },
    "kernelspec": {
      "name": "python3",
      "display_name": "Python 3"
    },
    "language_info": {
      "name": "python"
    }
  },
  "cells": [
    {
      "cell_type": "markdown",
      "metadata": {
        "id": "view-in-github",
        "colab_type": "text"
      },
      "source": [
        "<a href=\"https://colab.research.google.com/github/sujalkakade/python-daily-class/blob/main/SK_21_09_2025.ipynb\" target=\"_parent\"><img src=\"https://colab.research.google.com/assets/colab-badge.svg\" alt=\"Open In Colab\"/></a>"
      ]
    },
    {
      "cell_type": "code",
      "source": [
        "!pip install numpy"
      ],
      "metadata": {
        "colab": {
          "base_uri": "https://localhost:8080/"
        },
        "id": "O1LgNVRRh8RD",
        "outputId": "83e82a3c-b8a0-456e-95cc-ac9441dde0d7"
      },
      "execution_count": 3,
      "outputs": [
        {
          "output_type": "stream",
          "name": "stdout",
          "text": [
            "Requirement already satisfied: numpy in /usr/local/lib/python3.12/dist-packages (2.0.2)\n"
          ]
        }
      ]
    },
    {
      "cell_type": "code",
      "execution_count": 1,
      "metadata": {
        "id": "3hL8UyeXcISV",
        "colab": {
          "base_uri": "https://localhost:8080/"
        },
        "outputId": "bee4c2ea-7b73-4db5-81ae-5bdc03da280f"
      },
      "outputs": [
        {
          "output_type": "stream",
          "name": "stdout",
          "text": [
            "Numpy arraya: [1 2 3 4 5]\n"
          ]
        }
      ],
      "source": [
        "import numpy as sujal\n",
        "arr=sujal.array([1,2,3,4,5])\n",
        "print(\"Numpy arraya:\", arr)"
      ]
    },
    {
      "cell_type": "code",
      "source": [
        "import numpy as np\n",
        "zero=np.zeros(5)\n",
        "ones = np.ones(5)\n",
        "print(\"Zeros:\", zero)\n",
        "print(\"Ones:\", ones)\n"
      ],
      "metadata": {
        "colab": {
          "base_uri": "https://localhost:8080/"
        },
        "id": "c7y-SVkIiGox",
        "outputId": "93626ef5-7b64-4359-caa6-b5bec63b7a44"
      },
      "execution_count": 4,
      "outputs": [
        {
          "output_type": "stream",
          "name": "stdout",
          "text": [
            "Zeros: [0. 0. 0. 0. 0.]\n",
            "Ones: [1. 1. 1. 1. 1.]\n"
          ]
        }
      ]
    },
    {
      "cell_type": "code",
      "source": [
        "import numpy as np\n",
        "a = np.array([10,20,30])\n",
        "b = np.array([1,2,3])\n",
        "print(\"Addition:\",a+b)\n",
        "print(\"Subtraction:\",a-b)\n",
        "print(\"Multiplication:\",a*b)\n",
        "print(\"Division:\",a/b)"
      ],
      "metadata": {
        "colab": {
          "base_uri": "https://localhost:8080/"
        },
        "id": "emIrqu32lD7K",
        "outputId": "b226094f-5530-4db8-a3d1-d60a507b77cf"
      },
      "execution_count": 9,
      "outputs": [
        {
          "output_type": "stream",
          "name": "stdout",
          "text": [
            "Addition: [11 22 33]\n",
            "Subtraction: [ 9 18 27]\n",
            "Multiplication: [10 40 90]\n",
            "Division: [10. 10. 10.]\n"
          ]
        }
      ]
    },
    {
      "cell_type": "code",
      "source": [
        "import numpy as np\n",
        "arr = np.array([1,4,9,16])\n",
        "print(\"Square Root\",np.sqrt(arr))\n",
        "print(\"Mean:\",np.mean(arr))"
      ],
      "metadata": {
        "colab": {
          "base_uri": "https://localhost:8080/"
        },
        "id": "c_sugI5kkXRi",
        "outputId": "8a467983-bfad-4d4d-f52d-bc02c1b4e690"
      },
      "execution_count": 7,
      "outputs": [
        {
          "output_type": "stream",
          "name": "stdout",
          "text": [
            "Square Root [1. 2. 3. 4.]\n",
            "Mean: 7.5\n"
          ]
        }
      ]
    },
    {
      "cell_type": "code",
      "source": [
        "import numpy as np\n",
        "from scipy import stats\n",
        "data = np.array([2,4,6,8,10,12,16])\n",
        "mean = np.mean(data)\n",
        "print(\"Mean value is:\",mean)\n",
        "median = np.median(data)\n",
        "print(\"Median value is:\",median)\n",
        "range = np.max(data)-np.min(data)\n",
        "print(\"Range value is:\",range)\n",
        "mode = stats.mode(data)\n",
        "print(\"Mode value is:\",mode)"
      ],
      "metadata": {
        "colab": {
          "base_uri": "https://localhost:8080/"
        },
        "id": "jkrT8k47l3Li",
        "outputId": "68a4eb75-71a9-4f4a-9a92-a3f18827a4bf"
      },
      "execution_count": 17,
      "outputs": [
        {
          "output_type": "stream",
          "name": "stdout",
          "text": [
            "Mean value is: 8.285714285714286\n",
            "Median value is: 8.0\n",
            "Range value is: 14\n",
            "Mode value is: ModeResult(mode=np.int64(2), count=np.int64(1))\n"
          ]
        }
      ]
    },
    {
      "cell_type": "code",
      "source": [
        "import numpy as np\n",
        "matrix = np.array([[1,2],[3,4]])\n",
        "print(\"Matrix:\\n\",matrix)\n",
        "print(\"Transpose:\\n\", matrix.T)"
      ],
      "metadata": {
        "colab": {
          "base_uri": "https://localhost:8080/"
        },
        "id": "H2mUgiHpmNdr",
        "outputId": "7f94e7d8-16f8-46c8-9c91-fba9ed4dd150"
      },
      "execution_count": 20,
      "outputs": [
        {
          "output_type": "stream",
          "name": "stdout",
          "text": [
            "Matrix:\n",
            " [[1 2]\n",
            " [3 4]]\n",
            "Transpose:\n",
            " [[1 3]\n",
            " [2 4]]\n"
          ]
        }
      ]
    }
  ]
}