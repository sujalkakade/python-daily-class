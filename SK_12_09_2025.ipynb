{
  "nbformat": 4,
  "nbformat_minor": 0,
  "metadata": {
    "colab": {
      "provenance": [],
      "authorship_tag": "ABX9TyNp1c15VpnXxZ328ziurVbM",
      "include_colab_link": true
    },
    "kernelspec": {
      "name": "python3",
      "display_name": "Python 3"
    },
    "language_info": {
      "name": "python"
    }
  },
  "cells": [
    {
      "cell_type": "markdown",
      "metadata": {
        "id": "view-in-github",
        "colab_type": "text"
      },
      "source": [
        "<a href=\"https://colab.research.google.com/github/sujalkakade/python-daily-class/blob/main/SK_12_09_2025.ipynb\" target=\"_parent\"><img src=\"https://colab.research.google.com/assets/colab-badge.svg\" alt=\"Open In Colab\"/></a>"
      ]
    },
    {
      "cell_type": "code",
      "source": [],
      "metadata": {
        "id": "-NGGh9Tmb_Ui"
      },
      "execution_count": null,
      "outputs": []
    },
    {
      "cell_type": "code",
      "execution_count": null,
      "metadata": {
        "colab": {
          "base_uri": "https://localhost:8080/"
        },
        "id": "-AU-IdDkp50n",
        "outputId": "2a4d1e14-b206-44d3-f22d-0c61143b8b31"
      },
      "outputs": [
        {
          "output_type": "stream",
          "name": "stdout",
          "text": [
            "sujal\n"
          ]
        }
      ],
      "source": [
        "print(\"sujal\")"
      ]
    },
    {
      "cell_type": "code",
      "source": [
        "print(\"Hello world\")"
      ],
      "metadata": {
        "colab": {
          "base_uri": "https://localhost:8080/"
        },
        "id": "RmskLQkfreF5",
        "outputId": "d292f433-93a1-4b0b-b81f-93a8dd4b806c"
      },
      "execution_count": null,
      "outputs": [
        {
          "output_type": "stream",
          "name": "stdout",
          "text": [
            "Hello world\n"
          ]
        }
      ]
    },
    {
      "cell_type": "code",
      "source": [
        "print(\"Good Morning\")"
      ],
      "metadata": {
        "colab": {
          "base_uri": "https://localhost:8080/"
        },
        "id": "RP-qEHj7r4BB",
        "outputId": "3ec030da-0f8f-4997-a22a-7b4530a62541"
      },
      "execution_count": null,
      "outputs": [
        {
          "output_type": "stream",
          "name": "stdout",
          "text": [
            "Good Morning\n"
          ]
        }
      ]
    },
    {
      "cell_type": "code",
      "source": [
        "print(\"CTESociety Englsh medium school chikodi\")"
      ],
      "metadata": {
        "colab": {
          "base_uri": "https://localhost:8080/"
        },
        "id": "-Z_DzsSksIOx",
        "outputId": "04a440a7-11f9-4399-97c9-160ebf95a141"
      },
      "execution_count": null,
      "outputs": [
        {
          "output_type": "stream",
          "name": "stdout",
          "text": [
            "CTESociety Englsh medium school chikodi\n"
          ]
        }
      ]
    },
    {
      "cell_type": "code",
      "source": [
        "print(\"SBM Magadum college chikodi\")"
      ],
      "metadata": {
        "colab": {
          "base_uri": "https://localhost:8080/"
        },
        "id": "P49UTA5esZR5",
        "outputId": "d610daf1-4d8b-4432-cc61-9e3d425133e9"
      },
      "execution_count": null,
      "outputs": [
        {
          "output_type": "stream",
          "name": "stdout",
          "text": [
            "SBM Magadum college chikodi\n"
          ]
        }
      ]
    },
    {
      "cell_type": "code",
      "source": [
        "print(\"BK BCA College chikodi\")"
      ],
      "metadata": {
        "colab": {
          "base_uri": "https://localhost:8080/"
        },
        "id": "BACy8vOfsnMZ",
        "outputId": "2de48df1-9231-481b-a117-a606f1e2084b"
      },
      "execution_count": null,
      "outputs": [
        {
          "output_type": "stream",
          "name": "stdout",
          "text": [
            "BK BCA College chikodi\n"
          ]
        }
      ]
    },
    {
      "cell_type": "code",
      "source": [
        "print(5+5)"
      ],
      "metadata": {
        "colab": {
          "base_uri": "https://localhost:8080/"
        },
        "id": "DrevDBOMtoA6",
        "outputId": "0d3e0ceb-70ad-4e2c-b699-e874a49ac21b"
      },
      "execution_count": null,
      "outputs": [
        {
          "output_type": "stream",
          "name": "stdout",
          "text": [
            "10\n"
          ]
        }
      ]
    },
    {
      "cell_type": "code",
      "source": [
        "print(\"Hello world\" *3)"
      ],
      "metadata": {
        "colab": {
          "base_uri": "https://localhost:8080/"
        },
        "id": "mu7_FsYII-w1",
        "outputId": "33038487-7473-4335-f4e7-ad06008045a4"
      },
      "execution_count": null,
      "outputs": [
        {
          "output_type": "stream",
          "name": "stdout",
          "text": [
            "Hello worldHello worldHello world\n"
          ]
        }
      ]
    },
    {
      "cell_type": "code",
      "source": [
        "print(100/3)"
      ],
      "metadata": {
        "colab": {
          "base_uri": "https://localhost:8080/"
        },
        "id": "WzyLWSiqJa83",
        "outputId": "e00dbef8-c787-4739-e878-ceda75e683fe"
      },
      "execution_count": null,
      "outputs": [
        {
          "output_type": "stream",
          "name": "stdout",
          "text": [
            "33.333333333333336\n"
          ]
        }
      ]
    },
    {
      "cell_type": "code",
      "source": [
        "print(\"Python programming language\\n\"*5)"
      ],
      "metadata": {
        "colab": {
          "base_uri": "https://localhost:8080/"
        },
        "id": "u0blxl86JjBm",
        "outputId": "6ab82ea6-4a9f-4987-c1ba-6870ec681180"
      },
      "execution_count": null,
      "outputs": [
        {
          "output_type": "stream",
          "name": "stdout",
          "text": [
            "Python programming language\n",
            "Python programming language\n",
            "Python programming language\n",
            "Python programming language\n",
            "Python programming language\n",
            "\n"
          ]
        }
      ]
    },
    {
      "cell_type": "code",
      "source": [
        "print(\"My name is sujal kakade,Iam from chikodi,I complited 2nd puc in sbm pu college chikodi,now iam stding BCA in BK college chiko\")"
      ],
      "metadata": {
        "colab": {
          "base_uri": "https://localhost:8080/"
        },
        "id": "EhILvbSuJ5uG",
        "outputId": "de3bcb04-f8f7-4722-c83d-707548d8f530"
      },
      "execution_count": null,
      "outputs": [
        {
          "output_type": "stream",
          "name": "stdout",
          "text": [
            "My name is sujal kakade,Iam from chikodi,I complited 2nd puc in sbm pu college chikodi,now iam stding BCA in BK college chikodi\n"
          ]
        }
      ]
    },
    {
      "cell_type": "code",
      "source": [
        "print(\"Hello \" + \"world\")"
      ],
      "metadata": {
        "colab": {
          "base_uri": "https://localhost:8080/"
        },
        "id": "CHc97kBILhL-",
        "outputId": "c2801653-1d89-441a-890e-3d6ae91d5d65"
      },
      "execution_count": null,
      "outputs": [
        {
          "output_type": "stream",
          "name": "stdout",
          "text": [
            "Hello world\n"
          ]
        }
      ]
    },
    {
      "cell_type": "code",
      "source": [
        "print(\"Good Morning\\n\"* 10)"
      ],
      "metadata": {
        "colab": {
          "base_uri": "https://localhost:8080/"
        },
        "id": "M84Do2wJMp8A",
        "outputId": "918f3e85-8eb7-4b8f-ae77-63dfffd8e8af"
      },
      "execution_count": null,
      "outputs": [
        {
          "output_type": "stream",
          "name": "stdout",
          "text": [
            "Good Morning\n",
            "Good Morning\n",
            "Good Morning\n",
            "Good Morning\n",
            "Good Morning\n",
            "Good Morning\n",
            "Good Morning\n",
            "Good Morning\n",
            "Good Morning\n",
            "Good Morning\n",
            "\n"
          ]
        }
      ]
    },
    {
      "cell_type": "code",
      "source": [
        "\n",
        "print(\"hindi 19\\n IC 23\\n  CCP 29\\n DBMS 22\\n English 20\\n Account 25\\n\")"
      ],
      "metadata": {
        "colab": {
          "base_uri": "https://localhost:8080/"
        },
        "id": "M350tQTAOQe-",
        "outputId": "6a502df6-20b6-4b63-8722-5d7a06dc4bf7"
      },
      "execution_count": null,
      "outputs": [
        {
          "output_type": "stream",
          "name": "stdout",
          "text": [
            "hindi 19\n",
            " IC 23\n",
            "  CCP 29\n",
            " DBMS 22\n",
            " English 20\n",
            " Account 25\n",
            "\n"
          ]
        }
      ]
    },
    {
      "cell_type": "code",
      "source": [
        "_N_A_M_E = \"COMPUTER\"\n",
        "print(_N_A_M_E)"
      ],
      "metadata": {
        "colab": {
          "base_uri": "https://localhost:8080/"
        },
        "id": "RZkNzDQ_VtEA",
        "outputId": "cc8c39fe-f746-42bc-8c4c-a9f029d5dfe8"
      },
      "execution_count": null,
      "outputs": [
        {
          "output_type": "stream",
          "name": "stdout",
          "text": [
            "COMPUTER\n"
          ]
        }
      ]
    },
    {
      "cell_type": "code",
      "source": [
        "Age = 25\n",
        "age = 25\n",
        "print(\"Age, age\")"
      ],
      "metadata": {
        "colab": {
          "base_uri": "https://localhost:8080/"
        },
        "id": "A5x4BtEBWKHh",
        "outputId": "4a1a34b3-2cad-4ad3-8976-f28d28b74abf"
      },
      "execution_count": null,
      "outputs": [
        {
          "output_type": "stream",
          "name": "stdout",
          "text": [
            "Age, age\n"
          ]
        }
      ]
    },
    {
      "cell_type": "code",
      "source": [
        "X=15\n",
        "print(X,X)"
      ],
      "metadata": {
        "colab": {
          "base_uri": "https://localhost:8080/"
        },
        "id": "nH0JKGHIWm24",
        "outputId": "6f65f097-bbb0-47c5-94a4-55415976fc3f"
      },
      "execution_count": null,
      "outputs": [
        {
          "output_type": "stream",
          "name": "stdout",
          "text": [
            "15 15\n"
          ]
        }
      ]
    },
    {
      "cell_type": "code",
      "source": [],
      "metadata": {
        "id": "D5Ztm2sRiUXD"
      },
      "execution_count": null,
      "outputs": []
    },
    {
      "cell_type": "code",
      "source": [
        "y=3.24\n",
        "print(y)"
      ],
      "metadata": {
        "colab": {
          "base_uri": "https://localhost:8080/"
        },
        "id": "r71JDJdwW2Qo",
        "outputId": "afd6a4ca-2c76-4727-b439-eae43c776d1d"
      },
      "execution_count": null,
      "outputs": [
        {
          "output_type": "stream",
          "name": "stdout",
          "text": [
            "3.24\n"
          ]
        }
      ]
    },
    {
      "cell_type": "code",
      "source": [
        "yes=True\n",
        "print(yes)"
      ],
      "metadata": {
        "colab": {
          "base_uri": "https://localhost:8080/"
        },
        "id": "sYA9D9jwXCAR",
        "outputId": "b8e307e4-8463-4ce7-bbf5-edfb3367db63"
      },
      "execution_count": null,
      "outputs": [
        {
          "output_type": "stream",
          "name": "stdout",
          "text": [
            "True\n"
          ]
        }
      ]
    },
    {
      "cell_type": "code",
      "source": [
        "name = \"college\"\n",
        "per = 76.34\n",
        "print(name,per)"
      ],
      "metadata": {
        "colab": {
          "base_uri": "https://localhost:8080/"
        },
        "id": "j0mHZAcfXMoB",
        "outputId": "5d46a990-4c73-4d68-b722-4695e68eeafa"
      },
      "execution_count": null,
      "outputs": [
        {
          "output_type": "stream",
          "name": "stdout",
          "text": [
            "college 76.34\n"
          ]
        }
      ]
    },
    {
      "cell_type": "code",
      "source": [
        "#My name is sujal kakade, I am from chikodi,I cmpleted high school in rd pu college chikodi,"
      ],
      "metadata": {
        "id": "fzlL0L79XMVR"
      },
      "execution_count": null,
      "outputs": []
    },
    {
      "cell_type": "code",
      "source": [
        "#My name is, hvae completed PUC in the year of 2025, i got percentage is 70\n",
        "Name = \"sujal\"\n",
        "per = 70\n",
        "year = 2025\n",
        "print(\"My name is in\",Name,\"I completed PUC in the year of\",year,\",Igot percentage\",per)\n"
      ],
      "metadata": {
        "colab": {
          "base_uri": "https://localhost:8080/"
        },
        "id": "AcHxT760dOO5",
        "outputId": "fee4e2f4-c1e7-4e4e-b043-44497886d610"
      },
      "execution_count": null,
      "outputs": [
        {
          "output_type": "stream",
          "name": "stdout",
          "text": [
            "My name is in sujal I completed PUC in the year of 2025 ,Igot percentage 70\n"
          ]
        }
      ]
    },
    {
      "cell_type": "code",
      "source": [
        "print(\"good morning\")"
      ],
      "metadata": {
        "id": "NI8eyO8eiZxL",
        "outputId": "d7e7431b-3313-4161-b572-4276f7e29444",
        "colab": {
          "base_uri": "https://localhost:8080/"
        }
      },
      "execution_count": null,
      "outputs": [
        {
          "output_type": "stream",
          "name": "stdout",
          "text": [
            "good morning\n"
          ]
        }
      ]
    }
  ]
}