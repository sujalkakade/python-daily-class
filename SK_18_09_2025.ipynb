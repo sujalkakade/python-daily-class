{
  "nbformat": 4,
  "nbformat_minor": 0,
  "metadata": {
    "colab": {
      "provenance": [],
      "authorship_tag": "ABX9TyNlNLTfQIv61vmCiO7Xc7Xx",
      "include_colab_link": true
    },
    "kernelspec": {
      "name": "python3",
      "display_name": "Python 3"
    },
    "language_info": {
      "name": "python"
    }
  },
  "cells": [
    {
      "cell_type": "markdown",
      "metadata": {
        "id": "view-in-github",
        "colab_type": "text"
      },
      "source": [
        "<a href=\"https://colab.research.google.com/github/sujalkakade/python-daily-class/blob/main/SK_18_09_2025.ipynb\" target=\"_parent\"><img src=\"https://colab.research.google.com/assets/colab-badge.svg\" alt=\"Open In Colab\"/></a>"
      ]
    },
    {
      "cell_type": "code",
      "execution_count": null,
      "metadata": {
        "id": "pUVN0L529MrD",
        "colab": {
          "base_uri": "https://localhost:8080/"
        },
        "outputId": "fc4c42b0-2acf-44d3-882d-35ad789bdf1c"
      },
      "outputs": [
        {
          "output_type": "stream",
          "name": "stdout",
          "text": [
            "Total vowels is :  8\n"
          ]
        }
      ],
      "source": [
        "sentense = \"Python programming language\"\n",
        "count=0\n",
        "for ch in sentense:\n",
        "  if ch in\"aeiou\":\n",
        "     count+=1\n",
        "print(\"Total vowels is : \",count)"
      ]
    },
    {
      "cell_type": "code",
      "source": [
        "base=4\n",
        "height=5\n",
        "triangle=0.5*base*height\n",
        "print(\"Area of triangle is :\",triangle)\n"
      ],
      "metadata": {
        "colab": {
          "base_uri": "https://localhost:8080/"
        },
        "id": "opvcyHTL_RjY",
        "outputId": "8cc1eeb8-65e8-4c5c-c3f1-373eddf0ec15"
      },
      "execution_count": null,
      "outputs": [
        {
          "output_type": "stream",
          "name": "stdout",
          "text": [
            "Area of triangle is : 10.0\n"
          ]
        }
      ]
    },
    {
      "cell_type": "code",
      "source": [
        "pi=3.142\n",
        "radius=4\n",
        "area=pi*radius*radius\n",
        "print(\"Area of circle is :\",area)"
      ],
      "metadata": {
        "colab": {
          "base_uri": "https://localhost:8080/"
        },
        "id": "Ln0Iy-yRA2dw",
        "outputId": "30009c1e-50b0-465c-9a48-b2f33bd88887"
      },
      "execution_count": null,
      "outputs": [
        {
          "output_type": "stream",
          "name": "stdout",
          "text": [
            "Area of circle is : 50.272\n"
          ]
        }
      ]
    },
    {
      "cell_type": "code",
      "source": [
        "Ex={5,25,28,45,10,15}\n",
        "Largest_Number =max(Ex)\n",
        "print(\"Largest number is :\",Largest_Number)"
      ],
      "metadata": {
        "colab": {
          "base_uri": "https://localhost:8080/"
        },
        "id": "J2ykS68LB8W_",
        "outputId": "11f90ff4-20b5-4848-bacd-15309fc83d10"
      },
      "execution_count": null,
      "outputs": [
        {
          "output_type": "stream",
          "name": "stdout",
          "text": [
            "Largest number is : 45\n"
          ]
        }
      ]
    },
    {
      "cell_type": "code",
      "source": [
        "numbers=[10,25,7,99]\n",
        "lalr=numbers[0]\n",
        "for i in numbers:\n",
        "  if i>lalr:\n",
        "    lalr=i\n",
        "print(\"Largest number is :\",lalr)\n"
      ],
      "metadata": {
        "colab": {
          "base_uri": "https://localhost:8080/"
        },
        "id": "ggnsOmrmFlpn",
        "outputId": "177a302d-44ad-4e3f-8698-cb6fa3d4e683"
      },
      "execution_count": null,
      "outputs": [
        {
          "output_type": "stream",
          "name": "stdout",
          "text": [
            "Largest number is : 99\n"
          ]
        }
      ]
    },
    {
      "cell_type": "code",
      "source": [
        "sentense = \"Bachelor of computer science first semester section c\"\n",
        "count=0\n",
        "for ch in sentense:\n",
        "  if ch not in \" aeiou\":\n",
        "     count+=1\n",
        "print(\"Total consonens is : \",count)"
      ],
      "metadata": {
        "colab": {
          "base_uri": "https://localhost:8080/"
        },
        "id": "XEzFtRCIHJ64",
        "outputId": "051cc188-e5a1-44e6-fc29-8020fc8d3047"
      },
      "execution_count": null,
      "outputs": [
        {
          "output_type": "stream",
          "name": "stdout",
          "text": [
            "Total consonens is :  29\n"
          ]
        }
      ]
    },
    {
      "cell_type": "code",
      "source": [
        "bike= [\"RX 100\",\"GT 650\", \"Ninja\",\"Splender\",\"Bajaj\",\"pulsar\",\"NS 200\",\"M80\",\"Unicorn\"]\n",
        "for bike in bike :\n",
        "  if bike ==\"Unicorn\":\n",
        "    break\n",
        "  print(bike)"
      ],
      "metadata": {
        "colab": {
          "base_uri": "https://localhost:8080/"
        },
        "id": "4iqTC7cbGWbf",
        "outputId": "5ecb24a5-5130-473c-c418-18d9d9e2b7db"
      },
      "execution_count": null,
      "outputs": [
        {
          "output_type": "stream",
          "name": "stdout",
          "text": [
            "RX 100\n",
            "GT 650\n",
            "Ninja\n",
            "Splender\n",
            "Bajaj\n",
            "pulsar\n",
            "NS 200\n",
            "M80\n"
          ]
        }
      ]
    },
    {
      "cell_type": "markdown",
      "source": [],
      "metadata": {
        "id": "fz4T6N7PdHtd"
      }
    },
    {
      "cell_type": "code",
      "source": [
        "colours={\"purple\",\"pink\",\"black\",\"white\",\"red\",\"orange\",\"levender\",\"gray\",\"yellow\",\"maroon\"}\n",
        "for color in colours :\n",
        "    if colours==\"black\":\n",
        "      break\n",
        "    print(colours)"
      ],
      "metadata": {
        "colab": {
          "base_uri": "https://localhost:8080/"
        },
        "id": "tObeWPpMcl5u",
        "outputId": "952e3cf7-456d-46d4-c30b-03114bd89650"
      },
      "execution_count": null,
      "outputs": [
        {
          "output_type": "stream",
          "name": "stdout",
          "text": [
            "{'gray', 'black', 'orange', 'purple', 'red', 'maroon', 'pink', 'yellow', 'white', 'levender'}\n",
            "{'gray', 'black', 'orange', 'purple', 'red', 'maroon', 'pink', 'yellow', 'white', 'levender'}\n",
            "{'gray', 'black', 'orange', 'purple', 'red', 'maroon', 'pink', 'yellow', 'white', 'levender'}\n",
            "{'gray', 'black', 'orange', 'purple', 'red', 'maroon', 'pink', 'yellow', 'white', 'levender'}\n",
            "{'gray', 'black', 'orange', 'purple', 'red', 'maroon', 'pink', 'yellow', 'white', 'levender'}\n",
            "{'gray', 'black', 'orange', 'purple', 'red', 'maroon', 'pink', 'yellow', 'white', 'levender'}\n",
            "{'gray', 'black', 'orange', 'purple', 'red', 'maroon', 'pink', 'yellow', 'white', 'levender'}\n",
            "{'gray', 'black', 'orange', 'purple', 'red', 'maroon', 'pink', 'yellow', 'white', 'levender'}\n",
            "{'gray', 'black', 'orange', 'purple', 'red', 'maroon', 'pink', 'yellow', 'white', 'levender'}\n",
            "{'gray', 'black', 'orange', 'purple', 'red', 'maroon', 'pink', 'yellow', 'white', 'levender'}\n"
          ]
        }
      ]
    },
    {
      "cell_type": "code",
      "source": [
        "fruits =(\"apple\",\"orange\",\"mango\",\"strawberry\",\"dragon fruit\",\"greeps\",\"pineapple\",\"papaya\",\"watermelon\")\n",
        "for fruit in fruits:\n",
        "  if fruit==\"greeps\":\n",
        "    continue\n",
        "  print(fruit)"
      ],
      "metadata": {
        "colab": {
          "base_uri": "https://localhost:8080/"
        },
        "id": "UXG4SMEie05G",
        "outputId": "e5170775-2ae5-469b-b507-68f73a6cfb64"
      },
      "execution_count": null,
      "outputs": [
        {
          "output_type": "stream",
          "name": "stdout",
          "text": [
            "apple\n",
            "orange\n",
            "mango\n",
            "strawberry\n",
            "dragon fruit\n",
            "pineapple\n",
            "papaya\n",
            "watermelon\n"
          ]
        }
      ]
    },
    {
      "cell_type": "code",
      "source": [
        "for i in range(1,6):\n",
        "   if i==3:\n",
        "    continue\n",
        "   print(i)"
      ],
      "metadata": {
        "colab": {
          "base_uri": "https://localhost:8080/"
        },
        "id": "6a1GMDCMgUmX",
        "outputId": "861180f4-dbfb-4118-ecc1-12128fb3a105"
      },
      "execution_count": null,
      "outputs": [
        {
          "output_type": "stream",
          "name": "stdout",
          "text": [
            "1\n",
            "2\n",
            "4\n",
            "5\n"
          ]
        }
      ]
    },
    {
      "cell_type": "code",
      "source": [
        "mobiles=[\"vivo\",\"redmi\",\"oppo\",\"vivo\",\"vivo\",\"vivo\",\"oppo\",\"iqoo\",\"vivo\",\"oneplus\"]\n",
        "for mobile in mobiles:\n",
        "  if mobile==\"vivo\":\n",
        "    continue\n",
        "  print(mobile)"
      ],
      "metadata": {
        "colab": {
          "base_uri": "https://localhost:8080/"
        },
        "id": "j-p5pPfLhuh2",
        "outputId": "880cbc53-e30a-42b4-a779-31c53c24ab1c"
      },
      "execution_count": null,
      "outputs": [
        {
          "output_type": "stream",
          "name": "stdout",
          "text": [
            "redmi\n",
            "oppo\n",
            "oppo\n",
            "iqoo\n",
            "oneplus\n"
          ]
        }
      ]
    },
    {
      "cell_type": "code",
      "source": [
        "movies=[\"kgf\",\"chhava\",\"bahuhhali\",\"saiyara\",\"rrr\",\"kalki\",\"kannadakagi ondannu otti\"]\n",
        "for movie in movies:\n",
        "    if movie==\"trends\":\n",
        "      continue\n",
        "    print(movie)"
      ],
      "metadata": {
        "colab": {
          "base_uri": "https://localhost:8080/"
        },
        "id": "1GRagT8QjaAe",
        "outputId": "4928de9e-2572-4acb-dd07-24022b85d93b"
      },
      "execution_count": null,
      "outputs": [
        {
          "output_type": "stream",
          "name": "stdout",
          "text": [
            "kgf\n",
            "chhava\n",
            "bahuhhali\n",
            "saiyara\n",
            "rrr\n",
            "kalki\n",
            "kannadakagi ondannu otti\n"
          ]
        }
      ]
    },
    {
      "cell_type": "code",
      "source": [
        "movies=[\"kgf\",\"chhava\",\"bahubali\",\"saiyara\",\"rrr\",\"kalki\",\"kannadakagi ondannu otti\"]\n",
        "for movie in movies:\n",
        "    if movie==\"trends\":\n",
        "      continue\n",
        "    print(movie)"
      ],
      "metadata": {
        "colab": {
          "base_uri": "https://localhost:8080/"
        },
        "outputId": "b8973fd9-ffe7-48fd-f6db-5a5b1b2f98d1",
        "id": "OWZQ4svBlbhl"
      },
      "execution_count": null,
      "outputs": [
        {
          "output_type": "stream",
          "name": "stdout",
          "text": [
            "kgf\n",
            "chhava\n",
            "bahubali\n",
            "saiyara\n",
            "rrr\n",
            "kalki\n",
            "kannadakagi ondannu otti\n"
          ]
        }
      ]
    },
    {
      "cell_type": "code",
      "source": [
        "movies=[\"kgf\",\"chhava\",\"bahubali\",\"saiyara\",\"rrr\",\"kalki\",\"kannadakagi ondannu otti\"]\n",
        "for movie in movies:\n",
        "    if movie==\"rrr\":\n",
        "      pass\n",
        "    print(movie)"
      ],
      "metadata": {
        "colab": {
          "base_uri": "https://localhost:8080/"
        },
        "outputId": "c9232983-b470-468f-cc35-a8eaeb01196c",
        "id": "31y99dIklbpc"
      },
      "execution_count": null,
      "outputs": [
        {
          "output_type": "stream",
          "name": "stdout",
          "text": [
            "kgf\n",
            "chhava\n",
            "bahubali\n",
            "saiyara\n",
            "rrr\n",
            "kalki\n",
            "kannadakagi ondannu otti\n"
          ]
        }
      ]
    },
    {
      "cell_type": "code",
      "source": [
        "things={\"mobile\",\"laptop\",\"monitor\",'tab',\"book\",\"pen\",\"paper\"}\n",
        "for thing in things:\n",
        "    if thing==\"marker\":\n",
        "      pass\n",
        "    print(thing)"
      ],
      "metadata": {
        "colab": {
          "base_uri": "https://localhost:8080/"
        },
        "id": "Rp04-TmFmDll",
        "outputId": "0002b482-6590-49f2-9e59-db82e85b89dc"
      },
      "execution_count": null,
      "outputs": [
        {
          "output_type": "stream",
          "name": "stdout",
          "text": [
            "mobile\n",
            "pen\n",
            "paper\n",
            "laptop\n",
            "tab\n",
            "book\n",
            "monitor\n"
          ]
        }
      ]
    },
    {
      "cell_type": "code",
      "source": [],
      "metadata": {
        "id": "hD73QNvDmp71"
      },
      "execution_count": null,
      "outputs": []
    },
    {
      "cell_type": "code",
      "source": [
        "things={\"mobile\",\"laptop\",\"monitor\",'tab',\"book\",\"pen\",\"paper\"}\n",
        "for thing in things:\n",
        "    if thing==\"marker\":\n",
        "      continue\n",
        "    print(thing)"
      ],
      "metadata": {
        "colab": {
          "base_uri": "https://localhost:8080/"
        },
        "outputId": "f3bdc8b8-e1e6-4400-8673-7eecc798311d",
        "id": "s6e71evXmqvL"
      },
      "execution_count": null,
      "outputs": [
        {
          "output_type": "stream",
          "name": "stdout",
          "text": [
            "mobile\n",
            "pen\n",
            "paper\n",
            "laptop\n",
            "tab\n",
            "book\n",
            "monitor\n"
          ]
        }
      ]
    },
    {
      "cell_type": "code",
      "source": [],
      "metadata": {
        "id": "HkrAFSjzmvRE"
      },
      "execution_count": null,
      "outputs": []
    },
    {
      "cell_type": "code",
      "source": [
        "things={\"mobile\",\"laptop\",\"monitor\",'tab',\"book\",\"pen\",\"paper\"}\n",
        "for thing in things:\n",
        "    if thing==\"mobile\":\n",
        "      continue\n",
        "    print(thing)"
      ],
      "metadata": {
        "colab": {
          "base_uri": "https://localhost:8080/"
        },
        "outputId": "a2d0ba5e-28ac-454e-c1a2-a1f413abe2f8",
        "id": "LDuAQpjAmvvH"
      },
      "execution_count": null,
      "outputs": [
        {
          "output_type": "stream",
          "name": "stdout",
          "text": [
            "pen\n",
            "paper\n",
            "laptop\n",
            "tab\n",
            "book\n",
            "monitor\n"
          ]
        }
      ]
    },
    {
      "cell_type": "code",
      "source": [
        "\n",
        "for i in range(1,10):\n",
        "   for j in range(j):\n",
        "      print(i,end=\" \")\n",
        "   print()"
      ],
      "metadata": {
        "colab": {
          "base_uri": "https://localhost:8080/"
        },
        "outputId": "0830dc58-2f8d-4ee8-c209-2ed58c9de313",
        "id": "V2tHyVc2rsuk"
      },
      "execution_count": null,
      "outputs": [
        {
          "output_type": "stream",
          "name": "stdout",
          "text": [
            "1 1 1 1 1 1 1 1 1 \n",
            "2 2 2 2 2 2 2 2 \n",
            "3 3 3 3 3 3 3 \n",
            "4 4 4 4 4 4 \n",
            "5 5 5 5 5 \n",
            "6 6 6 6 \n",
            "7 7 7 \n",
            "8 8 \n",
            "9 \n"
          ]
        }
      ]
    },
    {
      "cell_type": "code",
      "source": [
        " for i in range(5):\n",
        "  if i ==2:\n",
        "    pass\n",
        "  print(i)"
      ],
      "metadata": {
        "colab": {
          "base_uri": "https://localhost:8080/"
        },
        "id": "_8j92I99m34k",
        "outputId": "d529b888-c699-4d82-8bf7-a61f592d6dae"
      },
      "execution_count": null,
      "outputs": [
        {
          "output_type": "stream",
          "name": "stdout",
          "text": [
            "0\n",
            "1\n",
            "2\n",
            "3\n",
            "4\n"
          ]
        }
      ]
    },
    {
      "cell_type": "code",
      "source": [
        "\n",
        "for i in range(10):\n",
        "   for j in range(10):\n",
        "      print(i,end=\" \")\n",
        "   print()\n"
      ],
      "metadata": {
        "colab": {
          "base_uri": "https://localhost:8080/"
        },
        "id": "C0FiXHCxpW-2",
        "outputId": "f640fc3d-7eac-4e51-d838-4176b65ce8db"
      },
      "execution_count": null,
      "outputs": [
        {
          "output_type": "stream",
          "name": "stdout",
          "text": [
            "0 0 0 0 0 0 0 0 0 0 \n",
            "1 1 1 1 1 1 1 1 1 1 \n",
            "2 2 2 2 2 2 2 2 2 2 \n",
            "3 3 3 3 3 3 3 3 3 3 \n",
            "4 4 4 4 4 4 4 4 4 4 \n",
            "5 5 5 5 5 5 5 5 5 5 \n",
            "6 6 6 6 6 6 6 6 6 6 \n",
            "7 7 7 7 7 7 7 7 7 7 \n",
            "8 8 8 8 8 8 8 8 8 8 \n",
            "9 9 9 9 9 9 9 9 9 9 \n"
          ]
        }
      ]
    },
    {
      "cell_type": "code",
      "source": [
        "\n",
        "for i in range(10):\n",
        "   for j in range(10):\n",
        "      print(j,end=\" \")\n",
        "   print()\n"
      ],
      "metadata": {
        "colab": {
          "base_uri": "https://localhost:8080/"
        },
        "outputId": "99b4d590-19b9-4749-9627-a81468a78390",
        "id": "B8E0Nbl-rQ5l"
      },
      "execution_count": null,
      "outputs": [
        {
          "output_type": "stream",
          "name": "stdout",
          "text": [
            "0 1 2 3 4 5 6 7 8 9 \n",
            "0 1 2 3 4 5 6 7 8 9 \n",
            "0 1 2 3 4 5 6 7 8 9 \n",
            "0 1 2 3 4 5 6 7 8 9 \n",
            "0 1 2 3 4 5 6 7 8 9 \n",
            "0 1 2 3 4 5 6 7 8 9 \n",
            "0 1 2 3 4 5 6 7 8 9 \n",
            "0 1 2 3 4 5 6 7 8 9 \n",
            "0 1 2 3 4 5 6 7 8 9 \n",
            "0 1 2 3 4 5 6 7 8 9 \n"
          ]
        }
      ]
    },
    {
      "cell_type": "code",
      "source": [
        "\n",
        "for i in range(10):\n",
        "   for j in range(10):\n",
        "      print(\"*\",end=\" \")\n",
        "   print()\n"
      ],
      "metadata": {
        "colab": {
          "base_uri": "https://localhost:8080/"
        },
        "outputId": "4e988996-7c94-43cf-e2e9-67f23d1cd8b8",
        "id": "8zp1T_rUraDJ"
      },
      "execution_count": null,
      "outputs": [
        {
          "output_type": "stream",
          "name": "stdout",
          "text": [
            "* * * * * * * * * * \n",
            "* * * * * * * * * * \n",
            "* * * * * * * * * * \n",
            "* * * * * * * * * * \n",
            "* * * * * * * * * * \n",
            "* * * * * * * * * * \n",
            "* * * * * * * * * * \n",
            "* * * * * * * * * * \n",
            "* * * * * * * * * * \n",
            "* * * * * * * * * * \n"
          ]
        }
      ]
    },
    {
      "cell_type": "code",
      "source": [
        "for i in range (8):\n",
        "   for j in range (0,i+1):\n",
        "        print(\" \",end=\" \")\n",
        "   for j in range(8):\n",
        "         print(\"*\",end=\" \")\n",
        "   print()"
      ],
      "metadata": {
        "id": "lkI2cxar9_hM",
        "colab": {
          "base_uri": "https://localhost:8080/"
        },
        "outputId": "260c18e3-b79b-44a4-ae11-cb5854592cd9"
      },
      "execution_count": null,
      "outputs": [
        {
          "output_type": "stream",
          "name": "stdout",
          "text": [
            "  * * * * * * * * \n",
            "    * * * * * * * * \n",
            "      * * * * * * * * \n",
            "        * * * * * * * * \n",
            "          * * * * * * * * \n",
            "            * * * * * * * * \n",
            "              * * * * * * * * \n",
            "                * * * * * * * * \n"
          ]
        }
      ]
    },
    {
      "cell_type": "code",
      "source": [
        "for i in range (8):\n",
        "   for j in range (0,i+1):\n",
        "        print(\" \",end=\" \")\n",
        "   for j in range(8):\n",
        "         print(\"☠️ \",end=\" \")\n",
        "   print()"
      ],
      "metadata": {
        "colab": {
          "base_uri": "https://localhost:8080/"
        },
        "id": "Nu-FKLAhBctp",
        "outputId": "4aa7d5cd-dd5d-402d-d975-f2bff2eb79c8"
      },
      "execution_count": null,
      "outputs": [
        {
          "output_type": "stream",
          "name": "stdout",
          "text": [
            "  ☠️  ☠️  ☠️  ☠️  ☠️  ☠️  ☠️  ☠️  \n",
            "    ☠️  ☠️  ☠️  ☠️  ☠️  ☠️  ☠️  ☠️  \n",
            "      ☠️  ☠️  ☠️  ☠️  ☠️  ☠️  ☠️  ☠️  \n",
            "        ☠️  ☠️  ☠️  ☠️  ☠️  ☠️  ☠️  ☠️  \n",
            "          ☠️  ☠️  ☠️  ☠️  ☠️  ☠️  ☠️  ☠️  \n",
            "            ☠️  ☠️  ☠️  ☠️  ☠️  ☠️  ☠️  ☠️  \n",
            "              ☠️  ☠️  ☠️  ☠️  ☠️  ☠️  ☠️  ☠️  \n",
            "                ☠️  ☠️  ☠️  ☠️  ☠️  ☠️  ☠️  ☠️  \n"
          ]
        }
      ]
    },
    {
      "cell_type": "code",
      "source": [
        "row=5\n",
        "col=5\n",
        "for i in range(0,5):\n",
        "    for j in range(0,5):\n",
        "      if i==0 or j==0 or i==4 or j==4:\n",
        "        print(\"♠︎\",end=\" \")\n",
        "      else:\n",
        "        print(\" \",end=\" \")\n",
        "    print()"
      ],
      "metadata": {
        "colab": {
          "base_uri": "https://localhost:8080/"
        },
        "id": "-0IMS0unCYcJ",
        "outputId": "eb59caf7-72b6-4d13-e6ff-3b027831317e"
      },
      "execution_count": null,
      "outputs": [
        {
          "output_type": "stream",
          "name": "stdout",
          "text": [
            "♠︎ ♠︎ ♠︎ ♠︎ ♠︎ \n",
            "♠︎       ♠︎ \n",
            "♠︎       ♠︎ \n",
            "♠︎       ♠︎ \n",
            "♠︎ ♠︎ ♠︎ ♠︎ ♠︎ \n"
          ]
        }
      ]
    },
    {
      "cell_type": "code",
      "source": [
        "for i in range(10):\n",
        "    for j in range(i):\n",
        "      print(\"✦\",end=\" \")\n",
        "    print()"
      ],
      "metadata": {
        "colab": {
          "base_uri": "https://localhost:8080/"
        },
        "id": "SVtJVY5TGAZS",
        "outputId": "1575b737-aaf5-414b-b9d2-70c7c75a7bb2"
      },
      "execution_count": null,
      "outputs": [
        {
          "output_type": "stream",
          "name": "stdout",
          "text": [
            "\n",
            "✦ \n",
            "✦ ✦ \n",
            "✦ ✦ ✦ \n",
            "✦ ✦ ✦ ✦ \n",
            "✦ ✦ ✦ ✦ ✦ \n",
            "✦ ✦ ✦ ✦ ✦ ✦ \n",
            "✦ ✦ ✦ ✦ ✦ ✦ ✦ \n",
            "✦ ✦ ✦ ✦ ✦ ✦ ✦ ✦ \n",
            "✦ ✦ ✦ ✦ ✦ ✦ ✦ ✦ ✦ \n"
          ]
        }
      ]
    },
    {
      "cell_type": "code",
      "source": [
        "num =7\n",
        "for i in range(0,num):\n",
        "    for j in range(0,num-i-1):\n",
        "         print(end=\" \")\n",
        "    for j in range(0,i*2+1):\n",
        "         print(end=\" \")\n",
        "print()\n"
      ],
      "metadata": {
        "colab": {
          "base_uri": "https://localhost:8080/"
        },
        "id": "4srn8J-xG2mY",
        "outputId": "64c5ab65-781d-4d05-c6e7-d5bdd1fea3c9"
      },
      "execution_count": 177,
      "outputs": [
        {
          "output_type": "stream",
          "name": "stdout",
          "text": [
            "                                                                      \n"
          ]
        }
      ]
    },
    {
      "cell_type": "code",
      "source": [
        "num =7\n",
        "for i in range(0,num):\n",
        "    for j in range(0,num-i-1):\n",
        "        print(\" \",end=\" \")\n",
        "    for j in range(0,i*2+1):\n",
        "        print(chr(97+j), end=\" \")\n",
        "    print()\n",
        "    for i in range(0,num):\n",
        "        for j in range(1,i):\n",
        "            print(\" \",end=\" \")\n",
        "        for j in range(0,(num-i)*2-1):\n",
        "            print(\"@\",end=\" \")\n",
        "        print()"
      ],
      "metadata": {
        "colab": {
          "base_uri": "https://localhost:8080/"
        },
        "id": "9URYfamVJT9y",
        "outputId": "fe0b6ebc-c4e2-478b-9844-14d1e0d06be2"
      },
      "execution_count": 191,
      "outputs": [
        {
          "output_type": "stream",
          "name": "stdout",
          "text": [
            "            a \n",
            "@ @ @ @ @ @ @ @ @ @ @ @ @ \n",
            "@ @ @ @ @ @ @ @ @ @ @ \n",
            "  @ @ @ @ @ @ @ @ @ \n",
            "    @ @ @ @ @ @ @ \n",
            "      @ @ @ @ @ \n",
            "        @ @ @ \n",
            "          @ \n",
            "          a b c \n",
            "@ @ @ @ @ @ @ @ @ @ @ @ @ \n",
            "@ @ @ @ @ @ @ @ @ @ @ \n",
            "  @ @ @ @ @ @ @ @ @ \n",
            "    @ @ @ @ @ @ @ \n",
            "      @ @ @ @ @ \n",
            "        @ @ @ \n",
            "          @ \n",
            "        a b c d e \n",
            "@ @ @ @ @ @ @ @ @ @ @ @ @ \n",
            "@ @ @ @ @ @ @ @ @ @ @ \n",
            "  @ @ @ @ @ @ @ @ @ \n",
            "    @ @ @ @ @ @ @ \n",
            "      @ @ @ @ @ \n",
            "        @ @ @ \n",
            "          @ \n",
            "      a b c d e f g \n",
            "@ @ @ @ @ @ @ @ @ @ @ @ @ \n",
            "@ @ @ @ @ @ @ @ @ @ @ \n",
            "  @ @ @ @ @ @ @ @ @ \n",
            "    @ @ @ @ @ @ @ \n",
            "      @ @ @ @ @ \n",
            "        @ @ @ \n",
            "          @ \n",
            "    a b c d e f g h i \n",
            "@ @ @ @ @ @ @ @ @ @ @ @ @ \n",
            "@ @ @ @ @ @ @ @ @ @ @ \n",
            "  @ @ @ @ @ @ @ @ @ \n",
            "    @ @ @ @ @ @ @ \n",
            "      @ @ @ @ @ \n",
            "        @ @ @ \n",
            "          @ \n",
            "  a b c d e f g h i j k \n",
            "@ @ @ @ @ @ @ @ @ @ @ @ @ \n",
            "@ @ @ @ @ @ @ @ @ @ @ \n",
            "  @ @ @ @ @ @ @ @ @ \n",
            "    @ @ @ @ @ @ @ \n",
            "      @ @ @ @ @ \n",
            "        @ @ @ \n",
            "          @ \n",
            "a b c d e f g h i j k l m \n",
            "@ @ @ @ @ @ @ @ @ @ @ @ @ \n",
            "@ @ @ @ @ @ @ @ @ @ @ \n",
            "  @ @ @ @ @ @ @ @ @ \n",
            "    @ @ @ @ @ @ @ \n",
            "      @ @ @ @ @ \n",
            "        @ @ @ \n",
            "          @ \n"
          ]
        }
      ]
    },
    {
      "cell_type": "code",
      "source": [
        "def add(a,b):\n",
        "    print(f'Addition of two number is {a+b}')\n",
        "add(5,10)"
      ],
      "metadata": {
        "colab": {
          "base_uri": "https://localhost:8080/"
        },
        "id": "a2b7knbfT4rJ",
        "outputId": "57928f7a-99a3-4696-e717-b27fbefbaae8"
      },
      "execution_count": 195,
      "outputs": [
        {
          "output_type": "stream",
          "name": "stdout",
          "text": [
            "Addition of two number is 15\n"
          ]
        }
      ]
    },
    {
      "cell_type": "code",
      "source": [
        "def Example (roll_num,name,section,depertment,college):\n",
        "    print(f\"My name is {name}, I'm studying {depertment}, in {college} college. My roll number is {roll_num} and section is {section}.\")\n",
        "Example(101,\"Sujal\",'A',\"BCA\",\"KLE\")"
      ],
      "metadata": {
        "colab": {
          "base_uri": "https://localhost:8080/"
        },
        "id": "gtWRLMYmYXLJ",
        "outputId": "454ff3c1-5223-41d5-8a27-c67990c7dfef"
      },
      "execution_count": 215,
      "outputs": [
        {
          "output_type": "stream",
          "name": "stdout",
          "text": [
            "My name is Sujal, I'm studying BCA, in KLE college. My roll number is 101 and section is A.\n"
          ]
        }
      ]
    },
    {
      "cell_type": "code",
      "source": [
        "def fun(name,game,time,):\n",
        "  print(f\"I'm {name};i'm playing {game} at {time} time\")\n",
        "fun (time = \"Eveining\",name=\"Sujal\",game = \"Cricket\")"
      ],
      "metadata": {
        "colab": {
          "base_uri": "https://localhost:8080/"
        },
        "id": "vk_SR6SgcPsI",
        "outputId": "e6f59691-ae20-4d6d-d6b7-17487d61fb4f"
      },
      "execution_count": 220,
      "outputs": [
        {
          "output_type": "stream",
          "name": "stdout",
          "text": [
            "I'm Sujal;i'm playing Cricket at Eveining time\n"
          ]
        }
      ]
    },
    {
      "cell_type": "code",
      "source": [
        "def Laptop (name = \"Lenovo\"):\n",
        "  print(\"My Laptop name is :\",name)\n",
        "Laptop(\"Dell\")\n",
        "Laptop(\"HP\")\n",
        "Laptop()\n",
        "Laptop(\"Mac book\")"
      ],
      "metadata": {
        "colab": {
          "base_uri": "https://localhost:8080/"
        },
        "id": "GInQ4O3peW7_",
        "outputId": "47d45bda-0f86-4319-9a89-cdd6b90fc39d"
      },
      "execution_count": 222,
      "outputs": [
        {
          "output_type": "stream",
          "name": "stdout",
          "text": [
            "My Laptop name is : Dell\n",
            "My Laptop name is : HP\n",
            "My Laptop name is : Lenovo\n",
            "My Laptop name is : Mac book\n"
          ]
        }
      ]
    }
  ]
}