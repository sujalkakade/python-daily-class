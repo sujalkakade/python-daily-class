{
  "nbformat": 4,
  "nbformat_minor": 0,
  "metadata": {
    "colab": {
      "provenance": [],
      "authorship_tag": "ABX9TyNsT0WjuaT3bxRJTHcxyhBF",
      "include_colab_link": true
    },
    "kernelspec": {
      "name": "python3",
      "display_name": "Python 3"
    },
    "language_info": {
      "name": "python"
    }
  },
  "cells": [
    {
      "cell_type": "markdown",
      "metadata": {
        "id": "view-in-github",
        "colab_type": "text"
      },
      "source": [
        "<a href=\"https://colab.research.google.com/github/sujalkakade/python-daily-class/blob/main/SK_18_09_2025.ipynb\" target=\"_parent\"><img src=\"https://colab.research.google.com/assets/colab-badge.svg\" alt=\"Open In Colab\"/></a>"
      ]
    },
    {
      "cell_type": "code",
      "execution_count": null,
      "metadata": {
        "id": "pUVN0L529MrD",
        "colab": {
          "base_uri": "https://localhost:8080/"
        },
        "outputId": "07782392-0601-442b-8a20-2e65f2c40abe"
      },
      "outputs": [
        {
          "output_type": "stream",
          "name": "stdout",
          "text": [
            "Total consonants is :  8\n"
          ]
        }
      ],
      "source": [
        "sentense = \"Python programming language\"\n",
        "count=0\n",
        "for ch in sentense:\n",
        "  if ch in\"aeiou\":\n",
        "     count+=1\n",
        "print(\"Total vowels is : \",count)"
      ]
    },
    {
      "cell_type": "code",
      "source": [
        "base=4\n",
        "height=5\n",
        "triangle=0.5*base*height\n",
        "print(\"Area of triangle is :\",triangle)\n"
      ],
      "metadata": {
        "colab": {
          "base_uri": "https://localhost:8080/"
        },
        "id": "opvcyHTL_RjY",
        "outputId": "8cc1eeb8-65e8-4c5c-c3f1-373eddf0ec15"
      },
      "execution_count": null,
      "outputs": [
        {
          "output_type": "stream",
          "name": "stdout",
          "text": [
            "Area of triangle is : 10.0\n"
          ]
        }
      ]
    },
    {
      "cell_type": "code",
      "source": [
        "pi=3.142\n",
        "radius=4\n",
        "area=pi*radius*radius\n",
        "print(\"Area of circle is :\",area)"
      ],
      "metadata": {
        "colab": {
          "base_uri": "https://localhost:8080/"
        },
        "id": "Ln0Iy-yRA2dw",
        "outputId": "30009c1e-50b0-465c-9a48-b2f33bd88887"
      },
      "execution_count": null,
      "outputs": [
        {
          "output_type": "stream",
          "name": "stdout",
          "text": [
            "Area of circle is : 50.272\n"
          ]
        }
      ]
    },
    {
      "cell_type": "code",
      "source": [
        "Ex={5,25,28,45,10,15}\n",
        "Largest_Number =max(Ex)\n",
        "print(\"Largest number is :\",Largest_Number)"
      ],
      "metadata": {
        "colab": {
          "base_uri": "https://localhost:8080/"
        },
        "id": "J2ykS68LB8W_",
        "outputId": "11f90ff4-20b5-4848-bacd-15309fc83d10"
      },
      "execution_count": null,
      "outputs": [
        {
          "output_type": "stream",
          "name": "stdout",
          "text": [
            "Largest number is : 45\n"
          ]
        }
      ]
    },
    {
      "cell_type": "code",
      "source": [
        "numbers=[10,25,7,99]\n",
        "lalr=numbers[0]\n",
        "for i in numbers:\n",
        "  if i>lalr:\n",
        "    lalr=i\n",
        "print(\"Largest number is :\",lalr)\n"
      ],
      "metadata": {
        "colab": {
          "base_uri": "https://localhost:8080/"
        },
        "id": "ggnsOmrmFlpn",
        "outputId": "177a302d-44ad-4e3f-8698-cb6fa3d4e683"
      },
      "execution_count": null,
      "outputs": [
        {
          "output_type": "stream",
          "name": "stdout",
          "text": [
            "Largest number is : 99\n"
          ]
        }
      ]
    },
    {
      "cell_type": "code",
      "source": [
        "sentense = \"Bachelor of computer science first semester section c\"\n",
        "count=0\n",
        "for ch in sentense:\n",
        "  if ch not in \" aeiou\":\n",
        "     count+=1\n",
        "print(\"Total consonens is : \",count)"
      ],
      "metadata": {
        "colab": {
          "base_uri": "https://localhost:8080/"
        },
        "id": "XEzFtRCIHJ64",
        "outputId": "051cc188-e5a1-44e6-fc29-8020fc8d3047"
      },
      "execution_count": null,
      "outputs": [
        {
          "output_type": "stream",
          "name": "stdout",
          "text": [
            "Total consonens is :  29\n"
          ]
        }
      ]
    },
    {
      "cell_type": "code",
      "source": [],
      "metadata": {
        "id": "4iqTC7cbGWbf"
      },
      "execution_count": null,
      "outputs": []
    }
  ]
}