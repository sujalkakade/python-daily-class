{
  "nbformat": 4,
  "nbformat_minor": 0,
  "metadata": {
    "colab": {
      "provenance": [],
      "authorship_tag": "ABX9TyPZnttOvLrLsafLPIhexSBk",
      "include_colab_link": true
    },
    "kernelspec": {
      "name": "python3",
      "display_name": "Python 3"
    },
    "language_info": {
      "name": "python"
    }
  },
  "cells": [
    {
      "cell_type": "markdown",
      "metadata": {
        "id": "view-in-github",
        "colab_type": "text"
      },
      "source": [
        "<a href=\"https://colab.research.google.com/github/sujalkakade/python-daily-class/blob/main/SK_14_9_2025_%2C2.ipynb\" target=\"_parent\"><img src=\"https://colab.research.google.com/assets/colab-badge.svg\" alt=\"Open In Colab\"/></a>"
      ]
    },
    {
      "cell_type": "code",
      "execution_count": null,
      "metadata": {
        "colab": {
          "base_uri": "https://localhost:8080/"
        },
        "id": "UvpYDIHPhT0t",
        "outputId": "3be76f0e-cb5a-40f9-81e5-53cadd6e10f7"
      },
      "outputs": [
        {
          "output_type": "stream",
          "name": "stdout",
          "text": [
            "python programming language\n",
            "<class 'str'>\n",
            "BKCcollege\n"
          ]
        }
      ],
      "source": [
        "String=\"python programming language\"\n",
        "print(String)\n",
        "print(type(String))\n",
        "\n",
        "first = \"BKC\"\n",
        "Second = \"college\"\n",
        "print(first +\"\" Second)"
      ]
    },
    {
      "cell_type": "code",
      "source": [
        "don='sk sarkar'\n",
        "print(don)"
      ],
      "metadata": {
        "colab": {
          "base_uri": "https://localhost:8080/"
        },
        "id": "VGKheNyFhwQ8",
        "outputId": "bf008257-b14a-4983-dbdf-46fd698d8ea2"
      },
      "execution_count": null,
      "outputs": [
        {
          "output_type": "stream",
          "name": "stdout",
          "text": [
            "sk sarkar\n"
          ]
        }
      ]
    },
    {
      "cell_type": "code",
      "source": [
        "first = \"BKC\"\n",
        "Second = \"college\"\n",
        "print(((first + Second)+\"\\n\")*5)"
      ],
      "metadata": {
        "colab": {
          "base_uri": "https://localhost:8080/"
        },
        "id": "NYCkZH3ujnq8",
        "outputId": "dca49fb4-dd13-49db-f1d1-a638ca5f7d8a"
      },
      "execution_count": null,
      "outputs": [
        {
          "output_type": "stream",
          "name": "stdout",
          "text": [
            "BKCcollege\n",
            "BKCcollege\n",
            "BKCcollege\n",
            "BKCcollege\n",
            "BKCcollege\n",
            "\n"
          ]
        }
      ]
    },
    {
      "cell_type": "code",
      "source": [
        "from os import name\n",
        "Name=\"python programming languages\"\n",
        "print(Name[5])\n",
        "print(Name[6])\n",
        "print(Name[3:14])\n",
        "print(Name[:20])\n",
        "print(Name[0:14])\n",
        "print(Name[:-1])\n",
        "print(Name[-22:-4])\n",
        "print(Name[::1])\n",
        "print(Name[::2])\n",
        "print(Name[::-1])\n",
        "print(Name[::-3])\n",
        "print(Name[-29:-6])"
      ],
      "metadata": {
        "colab": {
          "base_uri": "https://localhost:8080/"
        },
        "id": "GENQTosplL_8",
        "outputId": "88d32d4e-fa84-4243-95ad-e11e175071ee"
      },
      "execution_count": null,
      "outputs": [
        {
          "output_type": "stream",
          "name": "stdout",
          "text": [
            "n\n",
            " \n",
            "hon program\n",
            "python programming l\n",
            "python program\n",
            "python programming language\n",
            " programming langu\n",
            "python programming languages\n",
            "pto rgamn agae\n",
            "segaugnal gnimmargorp nohtyp\n",
            "san iao hp\n",
            "python programming lan\n"
          ]
        }
      ]
    },
    {
      "cell_type": "code",
      "source": [
        " Details='''multi line comment\n",
        "hi,Good Morning\n",
        "'''\n",
        "print(Details)"
      ],
      "metadata": {
        "colab": {
          "base_uri": "https://localhost:8080/"
        },
        "id": "A-798Nl7orQ0",
        "outputId": "caac66c9-d848-4f57-f50d-c980e079bc21"
      },
      "execution_count": null,
      "outputs": [
        {
          "output_type": "stream",
          "name": "stdout",
          "text": [
            "multi line comment\n",
            "hi,Good Morning\n",
            "\n"
          ]
        }
      ]
    },
    {
      "cell_type": "code",
      "source": [
        "details=[101]\n",
        "print(details)\n",
        "print(type(details))\n",
        "details.append(85.12)\n",
        "print(details)\n",
        "details.append(True)\n",
        "print(details)\n",
        "print(len(details))\n",
        "print(details.pop())\n",
        "print(details)\n",
        "details.append(\"sujal\")\n",
        "print(details)\n",
        "details.append(-99)\n",
        "print(details)\n",
        "print(len(details))\n",
        "print(details[2])\n",
        "print(details[-1])\n",
        "details.append(\"BKC college\")\n",
        "print(details)\n",
        "details[3]=99\n",
        "print(details)\n",
        "print(details[2:4])\n",
        "details.insert(2,False)\n",
        "print(details)\n",
        "details.remove(False)\n",
        "print(details)\n",
        "print(len(details))\n",
        "print(details[4])\n",
        "print(details[::-1])\n",
        "print(details.count(101))\n",
        "print(details.clear())\n",
        "print(details)\n",
        "print(type(details))\n",
        "\n"
      ],
      "metadata": {
        "colab": {
          "base_uri": "https://localhost:8080/"
        },
        "id": "l4c-KAHAU3-9",
        "outputId": "8af02bb1-e3d3-44d1-96b1-f646ff7bc551"
      },
      "execution_count": null,
      "outputs": [
        {
          "output_type": "stream",
          "name": "stdout",
          "text": [
            "[101]\n",
            "<class 'list'>\n",
            "[101, 85.12]\n",
            "[101, 85.12, True]\n",
            "3\n",
            "True\n",
            "[101, 85.12]\n",
            "[101, 85.12, 'sujal']\n",
            "[101, 85.12, 'sujal', -99]\n",
            "4\n",
            "sujal\n",
            "-99\n",
            "[101, 85.12, 'sujal', -99, 'BKC college']\n",
            "[101, 85.12, 'sujal', 99, 'BKC college']\n",
            "['sujal', 99]\n",
            "[101, 85.12, False, 'sujal', 99, 'BKC college']\n",
            "[101, 85.12, 'sujal', 99, 'BKC college']\n",
            "5\n",
            "BKC college\n",
            "['BKC college', 99, 'sujal', 85.12, 101]\n",
            "1\n",
            "None\n",
            "[]\n",
            "<class 'list'>\n"
          ]
        }
      ]
    },
    {
      "cell_type": "code",
      "source": [
        "information=[202]\n",
        "print(information)\n",
        "print(type(information))\n",
        "information.append(64.64)\n",
        "print (information)\n",
        "information.append(True)\n",
        "print(information)\n",
        "print(len(information))\n",
        "print(information.pop())\n",
        "print(information)\n",
        "information.append(\"mallappa\")\n",
        "print(information)\n",
        "information.append(64)\n",
        "print(information)\n",
        "print(len(information))\n",
        "print(information[1])"
      ],
      "metadata": {
        "colab": {
          "base_uri": "https://localhost:8080/"
        },
        "id": "-l16gE4HdhWd",
        "outputId": "2308ebb6-3a69-418b-f3d6-6efaf2af8f2d"
      },
      "execution_count": null,
      "outputs": [
        {
          "output_type": "stream",
          "name": "stdout",
          "text": [
            "[202]\n",
            "<class 'list'>\n",
            "[202, 64.64]\n",
            "[202, 64.64, True]\n",
            "3\n",
            "True\n",
            "[202, 64.64]\n",
            "[202, 64.64, 'mallappa']\n",
            "[202, 64.64, 'mallappa', 64]\n",
            "4\n",
            "64.64\n"
          ]
        }
      ]
    },
    {
      "cell_type": "code",
      "source": [
        "\n",
        "1 type\n",
        "2 len\n",
        "3 appended_\n",
        "4 pop\n",
        "5 insert\n",
        "6 remove\n",
        "7 Index\n",
        "8 slicing\n",
        "9 clear\n",
        "10 Count\n",
        "11 sort\n",
        "12 update\n"
      ],
      "metadata": {
        "colab": {
          "base_uri": "https://localhost:8080/",
          "height": 106
        },
        "id": "xhhD6gzRg7-l",
        "outputId": "68da42a2-c6b1-4cd8-f60d-c843365a9ca8"
      },
      "execution_count": null,
      "outputs": [
        {
          "output_type": "error",
          "ename": "SyntaxError",
          "evalue": "invalid syntax (ipython-input-2707912276.py, line 1)",
          "traceback": [
            "\u001b[0;36m  File \u001b[0;32m\"/tmp/ipython-input-2707912276.py\"\u001b[0;36m, line \u001b[0;32m1\u001b[0m\n\u001b[0;31m    1 type\u001b[0m\n\u001b[0m      ^\u001b[0m\n\u001b[0;31mSyntaxError\u001b[0m\u001b[0;31m:\u001b[0m invalid syntax\n"
          ]
        }
      ]
    },
    {
      "cell_type": "code",
      "source": [
        "#Address=2010\n",
        "print(Address)\n"
      ],
      "metadata": {
        "id": "emGFUZJMiDmU",
        "colab": {
          "base_uri": "https://localhost:8080/",
          "height": 159
        },
        "outputId": "2f6596f9-804c-49cf-d56a-70bcdeff653d"
      },
      "execution_count": null,
      "outputs": [
        {
          "output_type": "error",
          "ename": "NameError",
          "evalue": "name 'Address' is not defined",
          "traceback": [
            "\u001b[0;31m---------------------------------------------------------------------------\u001b[0m",
            "\u001b[0;31mNameError\u001b[0m                                 Traceback (most recent call last)",
            "\u001b[0;32m/tmp/ipython-input-2814692664.py\u001b[0m in \u001b[0;36m<cell line: 0>\u001b[0;34m()\u001b[0m\n\u001b[1;32m      1\u001b[0m \u001b[0;31m#Address=2010\u001b[0m\u001b[0;34m\u001b[0m\u001b[0;34m\u001b[0m\u001b[0m\n\u001b[0;32m----> 2\u001b[0;31m \u001b[0mprint\u001b[0m\u001b[0;34m(\u001b[0m\u001b[0mAddress\u001b[0m\u001b[0;34m)\u001b[0m\u001b[0;34m\u001b[0m\u001b[0;34m\u001b[0m\u001b[0m\n\u001b[0m",
            "\u001b[0;31mNameError\u001b[0m: name 'Address' is not defined"
          ]
        }
      ]
    }
  ]
}